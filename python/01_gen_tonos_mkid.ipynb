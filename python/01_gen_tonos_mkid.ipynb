{
 "cells": [
  {
   "cell_type": "markdown",
   "metadata": {
    "ein.tags": "worksheet-0",
    "slideshow": {
     "slide_type": "-"
    }
   },
   "source": [
    "# Generación de tonos para detectores MKID\n",
    "## Condición $K=M, n_0=0, k_0=0$  y BF-DFTG \n",
    "\n",
    "Por detalles, ver mi tesis ;)\n",
    "\n",
    "Esta condición corresponde al apilamiento **par** y es lo mismo que el BF-DFT críticamente muetreado."
   ]
  },
  {
   "cell_type": "markdown",
   "metadata": {
    "ein.tags": "worksheet-0",
    "slideshow": {
     "slide_type": "-"
    }
   },
   "source": [
    "### Diseño\n",
    "Este script genera y grafica las señales que se van a enviar en cada canal. \n",
    "\n",
    "La idea es simular la parte del sintetizador y del analizador para el canalizador de 16 canales. "
   ]
  },
  {
   "cell_type": "markdown",
   "metadata": {},
   "source": [
    "Importo los modulos necesarios"
   ]
  },
  {
   "cell_type": "code",
   "execution_count": null,
   "metadata": {
    "autoscroll": false,
    "ein.hycell": false,
    "ein.tags": "worksheet-0",
    "slideshow": {
     "slide_type": "-"
    }
   },
   "outputs": [],
   "source": [
    "%matplotlib notebook\n",
    "import numpy as np\n",
    "import matplotlib.pyplot as plt\n",
    "from scipy.signal import lfilter, kaiser\n",
    "from scipy.fftpack import fft, ifft, fftshift, fftfreq\n",
    "from dsp_funcs import h_freqz, mfreqz"
   ]
  },
  {
   "cell_type": "markdown",
   "metadata": {
    "ein.tags": "worksheet-0",
    "slideshow": {
     "slide_type": "-"
    }
   },
   "source": [
    "Configuración."
   ]
  },
  {
   "cell_type": "code",
   "execution_count": null,
   "metadata": {
    "autoscroll": false,
    "ein.hycell": false,
    "ein.tags": "worksheet-0",
    "slideshow": {
     "slide_type": "-"
    }
   },
   "outputs": [],
   "source": [
    "Fs            = 125e6    #Sampling frequency\n",
    "M             = 16       # downsampling ratio\n",
    "I             = 1        # oversampling factor\n",
    "K             = M*I      # number of channels\n",
    "k0            = 0        # \n",
    "n0            = 0\n",
    "data_len       = 2**16;\n",
    "prototipo      = '../coefficients/coeff/prototipo.csv';\n",
    "write_golden_data = 1;"
   ]
  },
  {
   "cell_type": "markdown",
   "metadata": {},
   "source": [
    "Creo las funciones que me generan las señales teniendo en cuenta las fases de Newman. Para detalles, ver el notebook 0_crest_factor_analysis.ipynb."
   ]
  },
  {
   "cell_type": "code",
   "execution_count": null,
   "metadata": {},
   "outputs": [],
   "source": [
    "def newman_sig(N,dlen,N0=1):\n",
    "    nsig = np.zeros((N,dlen),dtype=complex)\n",
    "    n=np.arange(dlen)\n",
    "    for k in range(1,N+1):\n",
    "        nsig[k-1] = np.exp(1j*(((k+N0)/(2*N*np.pi))*n+(np.pi*(k-1)**2)/N))\n",
    "        fk=Fs*(k+N0)/(4*np.pi**2*N)\n",
    "        print(fk)\n",
    "    return np.sqrt(2/N)*nsig\n",
    "    #return nsig\n",
    "\n",
    "def newman_sig_rand(N,dlen,N0=1):\n",
    "    nsig = np.zeros((N,dlen),dtype=complex)\n",
    "    n=np.arange(dlen)\n",
    "    for k in range(1,N+1):\n",
    "        nsig[k-1] = np.random.randn()*np.exp(1j*(((k+N0)/(2*N*np.pi))*n+(np.pi*(k-1)**2)/N))\n",
    "    return np.sqrt(2/N)*nsig\n",
    "    #return nsig"
   ]
  },
  {
   "cell_type": "markdown",
   "metadata": {},
   "source": [
    "Esta parte es para ver los tonos generados en función del tiempo."
   ]
  },
  {
   "cell_type": "code",
   "execution_count": null,
   "metadata": {},
   "outputs": [],
   "source": [
    "print('Create input data....');\n",
    "#data_type = 'constant';\n",
    "data_type = 'cosine';\n",
    "\n",
    "#np.random.seed(131) #replicable results\n",
    "n=np.arange(1,data_len+1)\n",
    "tx_data_in = np.zeros((K,data_len),dtype=complex)\n",
    "#for k in range(1,K+1):\n",
    "#    if 'constant' in data_type:\n",
    "#        tx_data_in[k-1] = np.sqrt(2/K)*np.cos(2*np.pi*((k+1)/(2*K*np.pi))*n) #newman_sig(16,data_len)\n",
    "        #tx_data_in_b[k-1] = np.random.randn()*newman_sig(k,data_len)\n",
    "#    else:\n",
    "#        tx_data_in[k-1] = np.sqrt(2/K)*np.exp(1j*((k+1)/(2*K*np.pi))*n) #newman_sig(16,data_len)\n",
    "        \n",
    "#        if k in [1,2,4,5,7,8,9,10,11,12,13,15,16]:\n",
    "#            tx_data_in[k-1] = np.zeros(data_len,dtype=complex)\n",
    "\n",
    "    \n",
    "#tx_data_in = newman_sig(K,data_len)\n",
    "tx_data_in = newman_sig(K,data_len)+ 0.0017 * np.random.randn(data_len) #agrego ruido para pruebas\n",
    "#tx_data_in = newman_sig(K,data_len)+ 0.0017 * np.random.normal(0,1,size=data_len) #agrego ruido para pruebas\n",
    "for k in range(1,K+1):\n",
    "    if k in [1,2,4,5,7,8,9,10,11,12,13,15,16]:\n",
    "        tx_data_in[k-1] = np.zeros(data_len,dtype=complex)\n",
    "\n",
    "#tx_data_in_b = newman_sig_rand(50,data_len)\n",
    "#for i,j in enumerate(tx_data_in_b):\n",
    "#    tx_data_in_b[i] = np.random.randn()*j"
   ]
  },
  {
   "cell_type": "markdown",
   "metadata": {},
   "source": [
    "Creamos los datos de entrada\n",
    "\n",
    "**Constante** o un **coseno** (escalado por el numero de canal) en cada canal, excluyendo el 4to, 6to y 14vo canal con propósito de demostración "
   ]
  },
  {
   "cell_type": "code",
   "execution_count": null,
   "metadata": {
    "autoscroll": false,
    "ein.hycell": false,
    "ein.tags": "worksheet-0",
    "slideshow": {
     "slide_type": "-"
    }
   },
   "outputs": [],
   "source": [
    "#print('Create input data....');\n",
    "#data_type = 'constant';\n",
    "#data_type = 'cosine';\n",
    "\n",
    "#n=np.arange(1,data_len+1)\n",
    "#tx_data_in = np.zeros((K,data_len),dtype=complex)\n",
    "#Creo las señales modulantes y elimino alguno de los canales para hacer pruebas\n",
    "#for k in range(1,K+1):\n",
    "#    if 'constant' in data_type:\n",
    "#        tx_data_in[k-1] = np.cos(((2*np.pi*100e3*k)/(125e6))*n)\n",
    "#    else:\n",
    "#        #tx_data_in[k-1] = np.exp(1j*(k/(K*2*np.pi))*n)\n",
    "#        #tx_data_in[k-1] = np.exp(2j*np.pi*((200e3/Fs)*k*n))\n",
    "#        tx_data_in[k-1] = np.exp(2j*np.pi*((200e3/Fs)*k*n+np.random.random()))\n",
    "#        #tx_data_in[k-1] = np.random.random()*np.exp(2j*np.pi*((200e3/Fs)*k*n+np.random.random()))\n",
    "\n",
    "#        #if (k == 4 or k==6 or k==14):\n",
    "#        #if k in np.arange(1,16):\n",
    "#        if k in [1,2,4,5,7,8,9,10,11,12,13,15,16]:\n",
    "#            tx_data_in[k-1] = np.zeros(data_len,dtype=complex)"
   ]
  },
  {
   "cell_type": "markdown",
   "metadata": {
    "ein.tags": "worksheet-0",
    "slideshow": {
     "slide_type": "-"
    }
   },
   "source": [
    "Esta parte es para ver los tonos generados en función del tiempo."
   ]
  },
  {
   "cell_type": "code",
   "execution_count": null,
   "metadata": {
    "autoscroll": false,
    "ein.hycell": false,
    "ein.tags": "worksheet-0",
    "slideshow": {
     "slide_type": "-"
    }
   },
   "outputs": [],
   "source": [
    "fig,ax = plt.subplots()\n",
    "fig.set_size_inches((10,5))\n",
    "#fig.suptitle('Input Spectrum',fontsize=18)\n",
    "for i in tx_data_in:\n",
    "    ax.plot(n-1,i.real)\n",
    "    #ax.pause(0.3)\n",
    "\n",
    "ax.plot(np.arange(data_len),np.sum(tx_data_in.real,axis=0),'k',lw=2)\n",
    "ax.set_xlim(0,2**10)\n",
    "#ax.set_ylim(-17.5,2)\n",
    "ax.grid()\n",
    "#ax.legend(loc=0,fontsize=10)\n",
    "#ax.ticklabel_format(style='sci', axis='x', scilimits=(0,0))\n",
    "ax.set_ylabel(r'Amplitud (a.u.)',fontsize=12)\n",
    "ax.set_xlabel('Indice de tiempo n',fontsize=12)\n",
    "plt.savefig('plots/in_spectrum_time.pdf')\n",
    "plt.show()"
   ]
  },
  {
   "cell_type": "markdown",
   "metadata": {},
   "source": [
    "Esta parte es donde grafico el espectro de las señales de salida"
   ]
  },
  {
   "cell_type": "code",
   "execution_count": null,
   "metadata": {
    "autoscroll": false,
    "ein.hycell": false,
    "ein.tags": "worksheet-0",
    "slideshow": {
     "slide_type": "-"
    }
   },
   "outputs": [],
   "source": [
    "fig,ax = plt.subplots(figsize=(10,5))\n",
    "#fig.set_size_inches((8,5))\n",
    "#fig.suptitle('Input Spectrum',fontsize=18)\n",
    "\n",
    "NFFT=2**13\n",
    "ww = kaiser(data_len, beta=8)\n",
    "X=fft(tx_data_in*ww,NFFT)\n",
    "freq=fftfreq(NFFT,d=1/Fs)\n",
    "for n in range(K):\n",
    "    ax.plot(freq[:int(NFFT/2)],20*np.log10(abs(X[n][:int(NFFT/2)])/max(abs(X[n][:int(NFFT/2)]))),label='Ch{}'.format(n))\n",
    "\n",
    "ax.set_xlim(0,Fs/2)\n",
    "ax.set_ylim(-90,2)\n",
    "ax.grid()\n",
    "#ax.legend(loc=0,fontsize=10)\n",
    "ax.legend(loc='upper right', fontsize='small', ncol=2)\n",
    "ax.ticklabel_format(style='sci', axis='x', scilimits=(0,0))\n",
    "ax.set_ylabel(r'Amplitud (dB)',fontsize=12)\n",
    "ax.set_xlabel('Frecuencia (Hz)',fontsize=12)\n",
    "plt.tight_layout()\n",
    "plt.savefig('plots/in_spectrum.pdf')\n",
    "plt.show()"
   ]
  },
  {
   "cell_type": "markdown",
   "metadata": {},
   "source": [
    "Guardo los archivos con los datos de los canales."
   ]
  },
  {
   "cell_type": "code",
   "execution_count": null,
   "metadata": {},
   "outputs": [],
   "source": [
    "if write_golden_data:\n",
    "    np.savetxt('../golden_data/tx_source_real_{}.dat'.format(data_type),np.reshape(tx_data_in.real,(K*data_len),order='F'),delimiter='\\n',fmt='%.32e')\n",
    "    np.savetxt('../golden_data/tx_source_imag_{}.dat'.format(data_type),np.reshape(tx_data_in.imag,(K*data_len),order='F'),delimiter='\\n',fmt='%.32e')"
   ]
  },
  {
   "cell_type": "markdown",
   "metadata": {
    "ein.tags": "worksheet-0",
    "slideshow": {
     "slide_type": "-"
    }
   },
   "source": [
    "Ahora generamos el archivo tx_source_real/imag_{data_type}_{K}.coe para cargar las memorias de datos en Vivado"
   ]
  },
  {
   "cell_type": "code",
   "execution_count": null,
   "metadata": {
    "autoscroll": false,
    "ein.hycell": false,
    "ein.tags": "worksheet-0",
    "slideshow": {
     "slide_type": "-"
    }
   },
   "outputs": [],
   "source": [
    "data_in=np.reshape(tx_data_in.real,(1,K*data_len),order='F')\n",
    "c_frac_width      = 15 # data fractional width\n",
    "\n",
    "f=open('../coefficients/coeff/tx_source_real_{}_{}_check.coe'.format(data_type,K),'w')\n",
    "for i in range(tx_data_in.size):\n",
    "    if (int(data_in[0][i]*2**c_frac_width) < 0):\n",
    "        f.write('{:x}'.format(int(data_in[0][i]*2**c_frac_width+2**(c_frac_width+1))))\n",
    "    else:\n",
    "        f.write('{:x}'.format(int(data_in[0][i]*2**c_frac_width)))\n",
    "    if i == data_in.size-1:\n",
    "        continue\n",
    "        #f.write(';')\n",
    "    else:\n",
    "        f.write(',')\n",
    "f.close()\n",
    "\n",
    "f=open('../coefficients/coeff/tx_source_real_{}_{}.coe'.format(data_type,K),'w')\n",
    "#f.write('memory_initialization_radix=10;\\n')\n",
    "f.write('memory_initialization_radix=16;\\n')\n",
    "f.write('memory_initialization_vector=')\n",
    "for i in range(tx_data_in.size):\n",
    "    if (int(data_in[0][i]*2**c_frac_width) < 0):\n",
    "        f.write('{:x}'.format(int(data_in[0][i]*2**c_frac_width+2**(c_frac_width+1))))\n",
    "    else:\n",
    "        f.write('{:x}'.format(int(data_in[0][i]*2**c_frac_width)))\n",
    "    if i == data_in.size-1:\n",
    "        f.write(';')\n",
    "    else:\n",
    "        f.write(',')\n",
    "f.close()\n",
    "\n",
    "data_in=np.reshape(tx_data_in.imag,(1,K*data_len), order='F')\n",
    "\n",
    "f=open('../coefficients/coeff/tx_source_imag_{}_{}_check.coe'.format(data_type,K),'w')\n",
    "for i in range(tx_data_in.size):\n",
    "    if (int(data_in[0][i]*2**c_frac_width) < 0):\n",
    "        f.write('{:x}'.format(int(data_in[0][i]*2**c_frac_width+2**(c_frac_width+1))))\n",
    "    else:\n",
    "        f.write('{:x}'.format(int(data_in[0][i]*2**c_frac_width)))\n",
    "    if i == data_in.size-1:\n",
    "        continue\n",
    "        #f.write(';')\n",
    "    else:\n",
    "        f.write(',')\n",
    "f.close()\n",
    "\n",
    "f=open('../coefficients/coeff/tx_source_imag_{}_{}.coe'.format(data_type,K),'w')\n",
    "#f.write('memory_initialization_radix=10;\\n')\n",
    "f.write('memory_initialization_radix=16;\\n')\n",
    "f.write('memory_initialization_vector=')\n",
    "for i in range(tx_data_in.size):\n",
    "    if (int(data_in[0][i]*2**c_frac_width) < 0):\n",
    "        f.write('{:x}'.format(int(data_in[0][i]*2**c_frac_width+2**(c_frac_width+1))))\n",
    "    else:\n",
    "        f.write('{:x}'.format(int(data_in[0][i]*2**c_frac_width)))\n",
    "    if i == data_in.size-1:\n",
    "        f.write(';')\n",
    "    else:\n",
    "        f.write(',')\n",
    "f.close()"
   ]
  },
  {
   "cell_type": "markdown",
   "metadata": {
    "ein.tags": "worksheet-0",
    "slideshow": {
     "slide_type": "-"
    }
   },
   "source": [
    "# Sintetizador FDM\n",
    "\n",
    "Lo que hago a partir de acá es simular todo el sistema transmisor en python para luego poder comparar con lo que obtengo en mis simulaciones con Vivado y los cores generados."
   ]
  },
  {
   "cell_type": "markdown",
   "metadata": {},
   "source": [
    "Recuperar el filtro prototipo del channelizer."
   ]
  },
  {
   "cell_type": "code",
   "execution_count": null,
   "metadata": {
    "autoscroll": false,
    "ein.hycell": false,
    "ein.tags": "worksheet-0",
    "slideshow": {
     "slide_type": "-"
    }
   },
   "outputs": [],
   "source": [
    "proto = np.loadtxt(prototipo,delimiter=',');"
   ]
  },
  {
   "cell_type": "markdown",
   "metadata": {},
   "source": [
    "Reshape de los coeficientes del filtro en filtros polifásicos es decir, dividir en las **$K$** polifases.\n",
    "\n",
    "Acá es donde armo los filtros polifásicos: $q_\\rho(m) = h(mM+\\rho),\\quad \\rho=0,1,...,M-1,\\quad K=M$."
   ]
  },
  {
   "cell_type": "code",
   "execution_count": null,
   "metadata": {},
   "outputs": [],
   "source": [
    "Fp=np.zeros((K,int(proto.size/K)))"
   ]
  },
  {
   "cell_type": "code",
   "execution_count": null,
   "metadata": {},
   "outputs": [],
   "source": [
    "for ro in range(K):\n",
    "    for m in range(int(proto.size/K)):\n",
    "        Fp[ro][m] = proto[int(ro+M*m)]\n",
    "#print(Fp)\n",
    "#proto[2][100]\n",
    "#for ro in range(1,K):\n",
    "#    Fp[ro] = np.roll(Fp[ro],-1) "
   ]
  },
  {
   "cell_type": "markdown",
   "metadata": {},
   "source": [
    "Para graficar las respuestas en el tiempo de cada uno de los filtros polifásicos"
   ]
  },
  {
   "cell_type": "code",
   "execution_count": null,
   "metadata": {},
   "outputs": [],
   "source": [
    "#plt.figure()\n",
    "for i in range(K):\n",
    "    plt.subplots()\n",
    "    #plt.stem(filts[i], linefmt='C'+str(i))\n",
    "    plt.stem(Fp[i],use_line_collection=True)\n",
    "    #plt.pause(1)\n",
    "plt.show()"
   ]
  },
  {
   "cell_type": "code",
   "execution_count": null,
   "metadata": {},
   "outputs": [],
   "source": [
    "for i in range(K):\n",
    "    plt.subplots()\n",
    "    plt.stem(Fp[i],use_line_collection=True)\n",
    "    #plt.pause(1)\n",
    "    plt.savefig('plots/f{}_impulse_resp_F.pdf'.format(i))\n",
    "plt.show()"
   ]
  },
  {
   "cell_type": "code",
   "execution_count": null,
   "metadata": {},
   "outputs": [],
   "source": [
    "#plt.figure()\n",
    "for i in range(K):\n",
    "    #plt.subplots()\n",
    "    #mfreqz(K*Fp[i])\n",
    "    h_freqz(K*Fp[i])\n",
    "    #plt.savefig('plots/f{}.pdf'.format(i))\n",
    "plt.show()"
   ]
  },
  {
   "cell_type": "markdown",
   "metadata": {},
   "source": [
    "Primero el IFFT"
   ]
  },
  {
   "cell_type": "code",
   "execution_count": null,
   "metadata": {
    "autoscroll": false,
    "ein.hycell": false,
    "ein.tags": "worksheet-0",
    "slideshow": {
     "slide_type": "-"
    }
   },
   "outputs": [],
   "source": [
    "# IFFT (mixers) \n",
    "print('Run FFT....');\n",
    "tx_fft_op_ideal = ifft(tx_data_in,axis=0)"
   ]
  },
  {
   "cell_type": "code",
   "execution_count": null,
   "metadata": {},
   "outputs": [],
   "source": [
    "# FIR (filtros polifásicos)\n",
    "tx_fir_op_ideal = np.zeros((K,data_len),dtype=complex)\n",
    "print('Run FIRs....');\n",
    "for n in range(K):\n",
    "    tx_fir_op_ideal[n] = lfilter(Fp[n],1,tx_fft_op_ideal[n])\n",
    "\n",
    "#tx_fir_op_ideal = np.flipud(tx_fir_op_ideal)"
   ]
  },
  {
   "cell_type": "markdown",
   "metadata": {},
   "source": [
    "Guardamos los datos de salida del sintetizador."
   ]
  },
  {
   "cell_type": "code",
   "execution_count": null,
   "metadata": {},
   "outputs": [],
   "source": [
    "if write_golden_data:\n",
    "    np.savetxt('../golden_data/tx_fir_op_ideal_real_{}.dat'.format(data_type),tx_fir_op_ideal.real, delimiter='\\n', fmt='%.32e');\n",
    "    np.savetxt('../golden_data/tx_fir_op_ideal_imag_{}.dat'.format(data_type),tx_fir_op_ideal.imag, delimiter='\\n', fmt='%.32e');"
   ]
  },
  {
   "cell_type": "markdown",
   "metadata": {},
   "source": [
    "Reshape en un solo stream de datos."
   ]
  },
  {
   "cell_type": "code",
   "execution_count": null,
   "metadata": {},
   "outputs": [],
   "source": [
    "print('Combine K....');\n",
    "ant_ideal=np.reshape(tx_fir_op_ideal,(tx_fir_op_ideal.size),order='F')\n",
    "print(ant_ideal.real.size)"
   ]
  },
  {
   "cell_type": "markdown",
   "metadata": {},
   "source": [
    "Guardamos los datos de la antena."
   ]
  },
  {
   "cell_type": "code",
   "execution_count": null,
   "metadata": {},
   "outputs": [],
   "source": [
    "if write_golden_data:\n",
    "    np.savetxt('../golden_data/ant_real_{}.dat'.format(data_type),ant_ideal.real, delimiter='\\n', fmt='%.32e')\n",
    "    np.savetxt('../golden_data/ant_imag_{}.dat'.format(data_type),ant_ideal.imag, delimiter='\\n', fmt='%.32e')"
   ]
  },
  {
   "cell_type": "markdown",
   "metadata": {},
   "source": [
    "Abro los archivos que tienen los datos de antena. c_frac_width es la parte fraccionaria de los datos."
   ]
  },
  {
   "cell_type": "code",
   "execution_count": null,
   "metadata": {},
   "outputs": [],
   "source": [
    "data_in=ant_ideal.real\n",
    "#print(data_in[:10])\n",
    "c_frac_width      = 15 # data fractional width\n",
    "\n",
    "#ant_real = np.loadtxt('../golden_data/ant_real_cosine.dat',delimiter=',');\n",
    "#ant_imag = np.loadtxt('../golden_data/ant_real_cosine.dat',delimiter=',');\n",
    "\n",
    "f=open('../coefficients/coeff/ant_source_real_{}_{}_checks.coe'.format(data_type,K),'w')\n",
    "#f.write('memory_initialization_radix=10;\\n')\n",
    "#f.write('memory_initialization_radix=16;\\n')\n",
    "#f.write('memory_initialization_vector=')\n",
    "for i in range(ant_ideal.real.size):\n",
    "    if (int(ant_ideal.real[i]*2**c_frac_width) < 0):\n",
    "        f.write('{:x}'.format(int(round(ant_ideal.real[i]*2**c_frac_width+2**(c_frac_width+1)))))\n",
    "    else:\n",
    "        f.write('{:x}'.format(int(round(ant_ideal.real[i]*2**c_frac_width)+1)))\n",
    "    if i == data_in.size-1:\n",
    "        continue\n",
    "        #f.write(';')\n",
    "    else:\n",
    "        f.write(',')\n",
    "f.close()\n",
    "\n",
    "f=open('../coefficients/coeff/ant_source_real_{}_{}.coe'.format(data_type,K),'w')\n",
    "#f.write('memory_initialization_radix=10;\\n')\n",
    "f.write('memory_initialization_radix=16;\\n')\n",
    "f.write('memory_initialization_vector=')\n",
    "for i in range(ant_ideal.real.size):\n",
    "    if (int(ant_ideal.real[i]*2**c_frac_width) < 0):\n",
    "        f.write('{:x}'.format(int(round(ant_ideal.real[i]*2**c_frac_width+2**(c_frac_width+1)))))\n",
    "    else:\n",
    "        f.write('{:x}'.format(int(round(ant_ideal.real[i]*2**c_frac_width)+1)))\n",
    "    if i == data_in.size-1:\n",
    "        f.write(';')\n",
    "    else:\n",
    "        f.write(',')\n",
    "f.close()\n",
    "\n",
    "data_in=ant_ideal.imag\n",
    "#print(data_in[:10])\n",
    "f=open('../coefficients/coeff/ant_source_imag_{}_{}_checks.coe'.format(data_type,K),'w')\n",
    "#f.write('memory_initialization_radix=10;\\n')\n",
    "#f.write('memory_initialization_radix=16;\\n')\n",
    "#f.write('memory_initialization_vector=')\n",
    "for i in range(ant_ideal.imag.size):\n",
    "    if (int(ant_ideal.imag[i]*2**c_frac_width) < 0):\n",
    "        f.write('{:x}'.format(int(round(ant_ideal.imag[i]*2**c_frac_width+2**(c_frac_width+1)))))\n",
    "    else:\n",
    "        f.write('{:x}'.format(int(round(ant_ideal.imag[i]*2**c_frac_width)+1)))\n",
    "    if i == data_in.size-1:\n",
    "        continue\n",
    "        #f.write(';')\n",
    "    else:\n",
    "        f.write(',')\n",
    "f.close()\n",
    "\n",
    "f=open('../coefficients/coeff/ant_source_imag_{}_{}.coe'.format(data_type,K),'w')\n",
    "#f.write('memory_initialization_radix=10;\\n')\n",
    "f.write('memory_initialization_radix=16;\\n')\n",
    "f.write('memory_initialization_vector=')\n",
    "for i in range(ant_ideal.imag.size):\n",
    "    if (int(ant_ideal.imag[i]*2**c_frac_width) < 0):\n",
    "        f.write('{:x}'.format(int(round(ant_ideal.imag[i]*2**c_frac_width+2**(c_frac_width+1)))))\n",
    "    else:\n",
    "        f.write('{:x}'.format(int(round(ant_ideal.imag[i]*2**c_frac_width)+1)))\n",
    "    if i == data_in.size-1:\n",
    "        f.write(';')\n",
    "    else:\n",
    "        f.write(',')\n",
    "f.close()"
   ]
  },
  {
   "cell_type": "code",
   "execution_count": null,
   "metadata": {},
   "outputs": [],
   "source": [
    "fig,ax = plt.subplots(1,2,sharex=True, sharey=True, gridspec_kw={'wspace': 0.1})\n",
    "fig.set_size_inches((10,8))\n",
    "#fig.suptitle('Channelizer{}'.format(K),fontsize=18)\n",
    "\n",
    "ax[0].plot(ant_ideal.real)\n",
    "ax[0].set_ylabel(r'ch{} (V)'.format(n+1),fontsize=10)\n",
    "ax[0].set_xlim(0,1024)\n",
    "ax[0].grid()\n",
    "\n",
    "ax[1].plot(ant_ideal.imag)\n",
    "ax[1].set_xlim(0,1024)\n",
    "ax[1].grid()\n",
    "ax[0].set_title('Real',fontsize=12)\n",
    "ax[1].set_title('Imaginario',fontsize=12)\n",
    "#axs[0][1].set_title('Imaginary',fontsize=12)\n",
    "ax[0].set_xlabel('n',fontsize=12)\n",
    "ax[1].set_xlabel('n',fontsize=12)\n",
    "#fig.align_xlabels()\n",
    "plt.tight_layout()\n",
    "#plt.savefig('plots/rx_fir_chann{}_out_1_{}.pdf'.format(K,int(K/2)))\n",
    "#plt.show()"
   ]
  },
  {
   "cell_type": "markdown",
   "metadata": {},
   "source": [
    "Plot output spectrum."
   ]
  },
  {
   "cell_type": "code",
   "execution_count": null,
   "metadata": {},
   "outputs": [],
   "source": [
    "print('Plot combined spectrum....');\n",
    "fig,ax=plt.subplots(1,3,sharey=True,figsize=(10,5))\n",
    "NFFT=K*data_len\n",
    "f=fftfreq(NFFT,d=1/Fs)\n",
    "#ww=kaiser(K*data_len,8);\n",
    "ww = kaiser(NFFT, beta=8)\n",
    "max_val   = max(abs(fft(ant_ideal*ww,NFFT)));\n",
    "#max_val   = max(abs(fft(ant_ideal,NFFT)));\n",
    "ax[0].plot(f/1e6,20*np.log10((abs(fft(ant_ideal*ww,NFFT)))/max_val),'b');\n",
    "#ax.plot(f,20*np.log10((abs(fft(ant_ideal*ww,NFFT)))/max_val),'b');\n",
    "#plt.plot(f,20*np.log10((abs(fft(ant_ideal,NFFT)))/max_val),'b');\n",
    "for i in range(int(K/2)):\n",
    "    ax[0].vlines((Fs/(1e6*K))*i,-120,0,linestyle='dotted',color='red')\n",
    "for i in reversed(range(int(K/2))):\n",
    "    ax[0].vlines(-(Fs/(1e6*K))*i,-120,0,linestyle='dotted',color='red')\n",
    "\n",
    "#ax.vlines(-(Fs/K)*15+156.0e3,-150,0,color='green')\n",
    "#ax.vlines(-(Fs/K)*15-180.0e3,-150,0,color='orange')\n",
    "#plt.plot(f,20*np.log10(abs(fft(ant_ideal))/max_val),'b');\n",
    "#ax.set_title('Espectro combinado del transmisor');#Transmitter combined spectrum');\n",
    "#plt.legend('Ideal');\n",
    "#axis tight\n",
    "ax[0].axis([-Fs/(2*1e6), Fs/(2*1e6), -100, 5])\n",
    "ax[0].set_ylabel('Amplitude (dB)',fontsize=12)\n",
    "ax[0].set_xlabel('Frequency (MHz)',fontsize=12)\n",
    "ax[0].legend(title='a)',title_fontsize='x-large', loc='upper right',frameon=True)#, fontsize='small'), ncol=2)\n",
    "\n",
    "ax[1].plot(f/1e6,20*np.log10((abs(fft(ant_ideal*ww,NFFT)))/max_val),'b');\n",
    "#ax.plot(f,20*np.log10((abs(fft(ant_ideal*ww,NFFT)))/max_val),'b');\n",
    "#plt.plot(f,20*np.log10((abs(fft(ant_ideal,NFFT)))/max_val),'b');\n",
    "for i in range(int(K/2)):\n",
    "    ax[1].vlines((Fs/(K*1e6))*i,-120,0,linestyle='dotted',color='red')\n",
    "for i in reversed(range(int(K/2))):\n",
    "    ax[1].vlines(-(Fs/(K*1e6))*i,-120,0,linestyle='dotted',color='red')\n",
    "\n",
    "channel=6\n",
    "ax[1].axis([(channel-1)*(Fs/(K*1e6))-(Fs/(2*K*1e6)), (channel-1)*(Fs/(K*1e6))+(Fs/(2*K*1e6)), -100, 5])\n",
    "#ax[1].set_ylabel('Amplitud (dB)',fontsize=12)\n",
    "ax[1].set_xlabel('Frequency (MHz)',fontsize=12)\n",
    "ax[1].legend(title='b)',title_fontsize='x-large', loc='upper right',frameon=True)\n",
    "\n",
    "ax[2].plot(f/1e6,20*np.log10((abs(fft(ant_ideal*ww,NFFT)))/max_val),'b');\n",
    "#ax.plot(f,20*np.log10((abs(fft(ant_ideal*ww,NFFT)))/max_val),'b');\n",
    "#plt.plot(f,20*np.log10((abs(fft(ant_ideal,NFFT)))/max_val),'b');\n",
    "for i in range(int(K/2)):\n",
    "    ax[2].vlines((Fs/(K*1e6))*i,-120,0,linestyle='dotted',color='red')\n",
    "for i in reversed(range(int(K/2))):\n",
    "    ax[2].vlines(-(Fs/(K*1e6))*i,-120,0,linestyle='dotted',color='red')\n",
    "\n",
    "ax[2].axis([(channel-1)*(Fs/(K*1e6))-(Fs/(32*K*1e6)), (channel-1)*(Fs/(K*1e6)+(Fs/(32*K*1e6))), -100, 5])\n",
    "#ax[1].set_ylabel('Amplitud (dB)',fontsize=12)\n",
    "ax[2].set_xlabel('Frequency (MHz)',fontsize=12)\n",
    "ax[2].legend(title='c)',title_fontsize='x-large', loc='upper right',frameon=True)\n",
    "\n",
    "plt.tight_layout()\n",
    "plt.savefig('plots/zoom_tx_spectrum_en.pdf')\n",
    "\n",
    "plt.show()"
   ]
  },
  {
   "cell_type": "markdown",
   "metadata": {},
   "source": [
    "###########################################################################\n",
    "# Receptor\n",
    "\n",
    "A partir de acá implemento lo que sería el receptor\n",
    "##########################################################################\n",
    "\n",
    "Divido los datos en canales\n",
    "\n",
    "El conmutador del receptor rota en sentido contrario al del transmisor. Por eso se usa la función \"flipud\".\n",
    "\n",
    "Reshape de los coeficientes del filtro en filtros polifásicos es decir, dividir en las $K$ polifases. \n",
    "\n",
    "Acá es donde armo los filtros polifásicos: $\\bar{p}_\\rho(m) = h(mM-\\rho),\\quad \\rho=0,1,...,M-1,\\quad K=M$.\n",
    "    \n",
    "Todo esto, según pag. 361 de Crochiere y mis desarrollos en la pag. 186 de mi libro de notas."
   ]
  },
  {
   "cell_type": "code",
   "execution_count": null,
   "metadata": {},
   "outputs": [],
   "source": [
    "Ep=np.zeros((K,int(proto.size/K))) "
   ]
  },
  {
   "cell_type": "code",
   "execution_count": null,
   "metadata": {},
   "outputs": [],
   "source": [
    "for ro in range(K):\n",
    "    for m in range(int(proto.size/K)):\n",
    "        Ep[ro][m] = proto[int(M*m-ro)] "
   ]
  },
  {
   "cell_type": "code",
   "execution_count": null,
   "metadata": {},
   "outputs": [],
   "source": [
    "#for ro in range(1,K):\n",
    "#    Ep[ro] = np.roll(Ep[ro],-1) \n",
    "for ro in range(1,K):\n",
    "    Ep[ro][0] = 0 "
   ]
  },
  {
   "cell_type": "markdown",
   "metadata": {},
   "source": [
    "Para graficar las respuestas en el tiempo de cada uno de los filtros polifásicos"
   ]
  },
  {
   "cell_type": "code",
   "execution_count": null,
   "metadata": {},
   "outputs": [],
   "source": [
    "#plt.figure()\n",
    "for i in range(K):\n",
    "    #plt.subplots()\n",
    "    #mfreqz(K*Ep[i])\n",
    "    h_freqz(Ep[i])\n",
    "    #plt.savefig('plots/f{}.pdf'.format(i))\n",
    "    plt.tight_layout()\n",
    "\n",
    "plt.show()"
   ]
  },
  {
   "cell_type": "code",
   "execution_count": null,
   "metadata": {},
   "outputs": [],
   "source": [
    "#rx_data_in = np.flipud(np.reshape(ant_ideal,(K,data_len),order='F'));\n",
    "rx_data_in = np.reshape(ant_ideal,(K,data_len),order='F');\n",
    "#rx_data_in = np.reshape(ant_ideal,(K,data_len),order='F');"
   ]
  },
  {
   "cell_type": "markdown",
   "metadata": {},
   "source": [
    "FIR (polyphase filters)"
   ]
  },
  {
   "cell_type": "code",
   "execution_count": null,
   "metadata": {
    "autoscroll": false,
    "ein.hycell": false,
    "ein.tags": "worksheet-0",
    "slideshow": {
     "slide_type": "-"
    }
   },
   "outputs": [],
   "source": [
    "print('Run FIRs....');\n",
    "rx_fir_op_ideal = np.zeros((K,data_len),dtype=complex)\n",
    "for n in range(K):\n",
    "    rx_fir_op_ideal[n] = lfilter(Ep[n],1,rx_data_in[n])"
   ]
  },
  {
   "cell_type": "code",
   "execution_count": null,
   "metadata": {},
   "outputs": [],
   "source": [
    "# Save FIR output\n",
    "#if write_golden_data:\n",
    "#    np.savetxt('../golden_data/rx_fir_op_real_{}.dat'.format(data_type),np.flipud(np.reshape(rx_fir_op_ideal.real,(K*data_len),order='F')),delimiter='\\n',fmt='%.32e')\n",
    "#    np.savetxt('../golden_data/rx_fir_op_imag_{}.dat'.format(data_type),np.flipud(np.reshape(rx_fir_op_ideal.imag,(K*data_len),order='F')),delimiter='\\n',fmt='%.32e')\n",
    "#    np.savetxt('../golden_data/ant_real_{}.dat'.format(data_type),ant_ideal.real, delimiter='\\n', fmt='%.32e');\n",
    "#    np.savetxt('../golden_data/ant_imag_{}.dat'.format(data_type),ant_ideal.imag, delimiter='\\n', fmt='%.32e');\n",
    "\n",
    "# Scale FIR output\n",
    "# - The FIR output will be Fix19_19 but the IFFT input is quantized to Fix17_16 so\n",
    "#   multiply FIR output by 2 to maximize precision to become Fix20_19\n",
    "#rx_fir_op_core  = rx_fir_op_core * 2;\n",
    "#rx_fir_op_ideal = rx_fir_op_ideal* 2;"
   ]
  },
  {
   "cell_type": "markdown",
   "metadata": {
    "ein.tags": "worksheet-0",
    "slideshow": {
     "slide_type": "-"
    }
   },
   "source": [
    "Guardamos los datos de salida para comparar con tx_fir_op_ideal y lo que me dan las simulaciones con la FPGA."
   ]
  },
  {
   "cell_type": "code",
   "execution_count": null,
   "metadata": {
    "autoscroll": false,
    "ein.hycell": false,
    "ein.tags": "worksheet-0",
    "slideshow": {
     "slide_type": "-"
    }
   },
   "outputs": [],
   "source": [
    "if write_golden_data:\n",
    "    np.savetxt('../golden_data/rx_fir_op_ideal_real_{}.dat'.format(data_type),np.reshape(rx_fir_op_ideal.real,(K*data_len),order='F'), delimiter='\\n', fmt='%.32e')\n",
    "    np.savetxt('../golden_data/rx_fir_op_ideal_imag_{}.dat'.format(data_type),np.reshape(rx_fir_op_ideal.imag,(K*data_len),order='F'), delimiter='\\n', fmt='%.32e')"
   ]
  },
  {
   "cell_type": "markdown",
   "metadata": {},
   "source": [
    "IFFT (mixers). Es importante notar que antes filtré por K*Ep(i) y ahora le aplico la FFT. Esto en mi core no es así, ya que filtro por E(i)"
   ]
  },
  {
   "cell_type": "code",
   "execution_count": null,
   "metadata": {},
   "outputs": [],
   "source": [
    "print('Run FFT....');\n",
    "rx_fft_op_ideal = fft(rx_fir_op_ideal,axis=0)\n",
    "\n",
    "#for n=1:data_len\n",
    "#  [output, blkexp, overflow]=xfft_v8_0_bitacc_mex(rx_fft.generics, 3, quantize(rx_fft.q,rx_fir_op_core(:,n)), 0, 0); # Inverse FFT\n",
    "#  rx_fft_op_core(:,n) = output.*rx_fft.output_scaling;\n",
    "#end\n",
    "\n",
    "# Save channel output data\n",
    "#if write_golden_data\n",
    "#  dlmwrite(['../golden_data/rx_chan_op_real_' data_type '.dat'],reshape(real(rx_fft_op_core),1,K*data_len),'delimiter', '\\n','precision', '%.32e');\n",
    "#  dlmwrite(['../golden_data/rx_chan_op_imag_' data_type '.dat'],reshape(imag(rx_fft_op_core),1,K*data_len),'delimiter', '\\n','precision', '%.32e');\n",
    "#end"
   ]
  },
  {
   "cell_type": "markdown",
   "metadata": {},
   "source": [
    "Plot output spectrum"
   ]
  },
  {
   "cell_type": "code",
   "execution_count": null,
   "metadata": {
    "scrolled": false
   },
   "outputs": [],
   "source": [
    "fig,ax=plt.subplots(figsize=(8,6))\n",
    "plot_type = 'spectrum';\n",
    "#plot_type = 'time domain(abs)';\n",
    "#plot_type = 'time domain(real)';\n",
    "\n",
    "print('Plot output channel {}....'.format(plot_type));\n",
    "# figure\n",
    "ww=kaiser(data_len,8);\n",
    "max_val = max(abs(fft(rx_fft_op_ideal[2]*ww)));#tener en cuenta que este canal debe estar presente\n",
    "f=fftfreq(data_len,d=1/Fs)\n",
    "for n in range(K):\n",
    "    #chan_err = rx_fft_op_ideal(n,:) - rx_fft_op_core(n,:);\n",
    "    if (plot_type =='spectrum'):\n",
    "        ax.plot(fftshift(f),20*np.log10(abs(fftshift(fft(rx_fft_op_ideal[n]*ww)))/max_val),f'C{n}',label=f'ch{n}');\n",
    "        ax.set_xlim(-Fs/2,Fs/2)\n",
    "        ax.legend()\n",
    "        #  plt.plot(20*np.log10(abs(fft(rx_fft_op_core[n]*ww))/max_val),'g');\n",
    "        #  plt.plot(20*np.log10(abs(fft(chan_err*ww))/max_val),'r');\n",
    "    elif (plot_type =='time domain(real)'):\n",
    "        ax.plot(rx_fft_op_ideal[n][:1000].real,'C{}'.format(n));\n",
    "        #  plt.plot(rx_fft_op_core[n].real,'g');\n",
    "        #  plt.plot(abs(chan_err),'r');\n",
    "    else:\n",
    "        ax.plot(abs(rx_fft_op_ideal[n]),'C{}'.format(n));\n",
    "        #  plt.plot(abs(rx_fft_op_core[n]),'g');\n",
    "        #  plt.plot(abs(chan_err),'r');\n",
    "        #ax.set_title('Receiver channel {:} {:}'.format(n,plot_type));\n",
    "        #plt.legend('Ideal','Cores','Error');\n",
    "#ax.set_xlim(0,300)\n",
    "plt.tight_layout()\n",
    "plt.show()"
   ]
  },
  {
   "cell_type": "markdown",
   "metadata": {},
   "source": [
    "Ahora grafico lo que obtengo a la salida de los filtros polifásicos del Rx. Esto me va a servir para comparar con Vivado. Esto lo hago aparte en el script check_fir.py.\n",
    "\n",
    "Grafico la salida de cada canal filtrado"
   ]
  },
  {
   "cell_type": "code",
   "execution_count": null,
   "metadata": {},
   "outputs": [],
   "source": [
    "fig,axs = plt.subplots(int(K/2),2,sharex=True, sharey=True, gridspec_kw={'wspace': 0.1})\n",
    "fig.set_size_inches((10,6))\n",
    "#fig.suptitle('Channelizer{}'.format(K),fontsize=18)\n",
    "\n",
    "for n in range(0,int(K/2)):\n",
    "    ax=axs[n][0]\n",
    "    ax.plot(rx_fir_op_ideal[n].real)\n",
    "    #ax.plot(xc[n].real)\n",
    "    #ax.plot(xc[n].real-64*tx_fir_op_ideal[n][:xc.size].real)\n",
    "    #ax.plot(x_ideal[n::K].real,'r')\n",
    "    #ax.legend(loc=0,fontsize=16)\n",
    "    ax.ticklabel_format(style='sci', axis='y', scilimits=(0,0))\n",
    "    #ax.set_ylabel(r'dB',fontsize=22)\n",
    "    #ax.set_ylabel('ch{}[mV?]'.format(n+1),fontsize=14)\n",
    "    ax.set_ylabel(r'ch{}'.format(n+1),fontsize=10)\n",
    "    ax.set_xlim(0,1024)\n",
    "    ax.grid()\n",
    "\n",
    "    ax=axs[n][1]\n",
    "    ax.plot(rx_fir_op_ideal[n].imag)\n",
    "    #ax.plot(xc[n].imag)\n",
    "    #ax.plot(xc[n].imag-64*tx_fir_op_ideal[n][:xc.size].imag)\n",
    "    #ax.plot(x_ideal[n::K].imag,'r')\n",
    "    #ax.legend(loc=0,fontsize=16)\n",
    "    ax.ticklabel_format(style='sci', axis='y', scilimits=(0,0))\n",
    "    #ax.set_ylabel(r'dB',fontsize=22)\n",
    "    #ax.set_xlabel('ch{}'.format(n+1),fontsize=18)\n",
    "    ax.set_xlim(0,1024)\n",
    "    ax.grid()\n",
    "    axs[0][0].set_title('Real',fontsize=12)\n",
    "#axs[0][1].set_title('Imaginario',fontsize=18)\n",
    "axs[0][1].set_title('Imaginary',fontsize=12)\n",
    "axs[int(K/2)-1][0].set_xlabel('n',fontsize=12)\n",
    "axs[int(K/2)-1][1].set_xlabel('n',fontsize=12)\n",
    "#fig.align_xlabels()\n",
    "plt.savefig(f'plots/rx_fir_chann{K}_out_1_{int(K/2)}.pdf')\n",
    "#plt.show()"
   ]
  },
  {
   "cell_type": "markdown",
   "metadata": {},
   "source": [
    "Los canales desde el 8 hasta el 15"
   ]
  },
  {
   "cell_type": "code",
   "execution_count": null,
   "metadata": {},
   "outputs": [],
   "source": [
    "fig,axs = plt.subplots(int(K/2),2,sharex=True, sharey=True, gridspec_kw={'wspace': 0.1})\n",
    "fig.set_size_inches((10,6))\n",
    "#fig.suptitle('Channelizer{}'.format(K),fontsize=18)\n",
    "\n",
    "for n in range(int(K/2),K):\n",
    "    ax=axs[n-int(K/2)][0]\n",
    "    ax.plot(rx_fir_op_ideal[n].real)\n",
    "    #ax.plot(xc[n].real)\n",
    "    #ax.plot(xc[n].real-64*tx_fir_op_ideal[n][:xc.size].real)\n",
    "    #ax.plot(x_ideal[n::K].real)\n",
    "    #ax.legend(loc=0,fontsize=16)\n",
    "    ax.ticklabel_format(style='sci', axis='y', scilimits=(0,0))\n",
    "    #ax.set_ylabel(r'dB',fontsize=22)\n",
    "    #ax.set_ylabel('ch{}[mV?]'.format(n+1),fontsize=14)\n",
    "    ax.set_ylabel('ch{}'.format(n+1),fontsize=10)\n",
    "    ax.set_xlim(0,1024)\n",
    "    ax.grid()\n",
    "\n",
    "    ax=axs[n-int(K/2)][1]\n",
    "    ax.plot(rx_fir_op_ideal[n].imag)\n",
    "    #ax.plot(xc[n].imag)\n",
    "    #ax.plot(xc[n].imag-64*tx_fir_op_ideal[n][:xc.size].imag)\n",
    "    #ax.plot(x_ideal[n::K].imag)\n",
    "    #ax.legend(loc=0,fontsize=16)\n",
    "    ax.ticklabel_format(style='sci', axis='y', scilimits=(0,0))\n",
    "    #ax.set_ylabel(r'dB',fontsize=22)\n",
    "    #ax.set_xlabel('ch{}'.format(n+1),fontsize=18)\n",
    "    ax.set_xlim(0,1024)\n",
    "    ax.grid()\n",
    "\n",
    "axs[0][0].set_title('Real',fontsize=12)\n",
    "#axs[0][1].set_title('Imaginario',fontsize=18)\n",
    "axs[0][1].set_title('Imaginary',fontsize=12)\n",
    "axs[int(K/2)-1][0].set_xlabel('n',fontsize=12)\n",
    "axs[int(K/2)-1][1].set_xlabel('n',fontsize=12)\n",
    "#fig.align_xlabels()\n",
    "plt.savefig(f'plots/rx_fir_chann{K}_out_{int(K/2+1)}_{K}.pdf')\n",
    "plt.show()"
   ]
  },
  {
   "cell_type": "markdown",
   "metadata": {},
   "source": [
    "Ahora grafico lo que obtengo a la salida del filtro polifásico del rx\n",
    "\n",
    "Grafico la salida de cada canal filtrado"
   ]
  },
  {
   "cell_type": "code",
   "execution_count": null,
   "metadata": {},
   "outputs": [],
   "source": [
    "fig,axs = plt.subplots(int(K/2),2,sharex=True, sharey=True, gridspec_kw={'wspace': 0.1})\n",
    "fig.set_size_inches((10,8))\n",
    "#fig.suptitle('Channelizer{}'.format(K),fontsize=18)\n",
    "\n",
    "for n in range(0,int(K/2)):\n",
    "    ax=axs[n][0]\n",
    "    ax.plot(K**2*rx_fft_op_ideal[n].real)\n",
    "    ax.set_ylabel(r'ch{}'.format(n+1),fontsize=10)\n",
    "    ax.set_xlim(0,1024)\n",
    "    ax.grid()\n",
    "\n",
    "    ax=axs[n][1]\n",
    "    ax.plot(K**2*rx_fft_op_ideal[n].imag)\n",
    "    ax.set_xlim(0,1024)\n",
    "    ax.grid()\n",
    "    axs[0][0].set_title('Real (a.u.)',fontsize=12)\n",
    "axs[0][1].set_title('Imaginario (a.u.)',fontsize=12)\n",
    "#axs[0][1].set_title('Imaginary',fontsize=12)\n",
    "axs[int(K/2)-1][0].set_xlabel('n',fontsize=12)\n",
    "axs[int(K/2)-1][1].set_xlabel('n',fontsize=12)\n",
    "#fig.align_xlabels()\n",
    "plt.tight_layout()\n",
    "plt.savefig('plots/dft_rxc{}_out_1_{}.pdf'.format(K,int(K/2)))\n",
    "#plt.show()"
   ]
  },
  {
   "cell_type": "code",
   "execution_count": null,
   "metadata": {},
   "outputs": [],
   "source": [
    "#Grafico la salida de cada canal\n",
    "fig,axs = plt.subplots(int(K/2),2,sharex=True, sharey=True, gridspec_kw={'wspace': 0.1})\n",
    "fig.set_size_inches((10,8))\n",
    "#fig.suptitle('Channelizer{}'.format(K),fontsize=18)\n",
    "\n",
    "for n in range(int(K/2),K):\n",
    "    ax=axs[n-int(K/2)][0]\n",
    "    ax.plot(K**2*rx_fft_op_ideal[n].real)\n",
    "    ax.set_ylabel('ch{}'.format(n+1),fontsize=10)\n",
    "    ax.set_xlim(0,1024)\n",
    "    ax.grid()\n",
    "\n",
    "    ax=axs[n-int(K/2)][1]\n",
    "    ax.plot(K**2*rx_fft_op_ideal[n].imag)\n",
    "    ax.set_xlim(0,1024)\n",
    "    ax.grid()\n",
    "\n",
    "axs[0][0].set_title('Real (a.u.)',fontsize=12)\n",
    "axs[0][1].set_title('Imaginario (a.u.)',fontsize=12)\n",
    "#axs[0][1].set_title('Imaginary',fontsize=12)\n",
    "axs[int(K/2)-1][0].set_xlabel('n',fontsize=12)\n",
    "axs[int(K/2)-1][1].set_xlabel('n',fontsize=12)\n",
    "#fig.align_xlabels()\n",
    "plt.tight_layout()\n",
    "plt.savefig('plots/dft_rxc{}_out_{}_{}.pdf'.format(K,int(K/2+1),K))\n",
    "plt.show()"
   ]
  },
  {
   "cell_type": "markdown",
   "metadata": {},
   "source": [
    "Esta ultima parte es para comparar los datos obtenidos de la Redpitaya con las simulaciones. Lo que sigue lo tomo del script in_gen.ipynb"
   ]
  },
  {
   "cell_type": "code",
   "execution_count": null,
   "metadata": {},
   "outputs": [],
   "source": [
    "import os\n",
    "fname='test02.dat'\n",
    "#proc_dir ='/home/arnaldi/seagate2tb/data/mkid/rp/dft_rxc16/'\n",
    "proc_dir ='/home/arnaldi/work//data/dft_rxc16/'"
   ]
  },
  {
   "cell_type": "code",
   "execution_count": null,
   "metadata": {},
   "outputs": [],
   "source": [
    "c1,c2 = np.loadtxt(os.path.join(proc_dir, fname), unpack=1, skiprows=19)#, usecols=(0,1,3))\n",
    "#c11,c22 = h_loadtxt(os.path.join(proc_dir, fname), ncols=2)#, usecols=(0,1,3))\n",
    "c1=np.resize(c1,c1.size - len(c1)%K)\n",
    "c2=np.resize(c2,c2.size - len(c2)%K)\n",
    "data_len=c1.size"
   ]
  },
  {
   "cell_type": "code",
   "execution_count": null,
   "metadata": {},
   "outputs": [],
   "source": [
    "idata=np.reshape(c1,(K,int(c1.size/K)),order='F')\n",
    "qdata=np.reshape(c2,(K,int(c2.size/K)),order='F')\n",
    "\n",
    "data=np.zeros((K,idata.shape[1]),dtype=complex)                                                \n",
    "print(idata.shape)\n",
    "\n",
    "\n",
    "#armo los canales\n",
    "for i in range(K): \n",
    "    for j in range(idata.shape[1]): \n",
    "        data[i][j]=idata[i][j]+1j*qdata[i][j] \n",
    "\n",
    "#data=32*data\n",
    "\n",
    "data_len=data.shape[1]"
   ]
  },
  {
   "cell_type": "code",
   "execution_count": null,
   "metadata": {},
   "outputs": [],
   "source": [
    "fig,axs = plt.subplots(int(K/2),2,sharex=True, sharey=True, gridspec_kw={'wspace': 0.1})\n",
    "fig.set_size_inches((10,8))\n",
    "#fig.suptitle('Channelizer{}'.format(K),fontsize=18)\n",
    "\n",
    "for n in range(0,int(K/2)):\n",
    "    ax=axs[n][0]\n",
    "    ax.plot((4*rx_fft_op_ideal[n].real)*1e3,'--')\n",
    "    ax.plot((data[n].real/2**13)*1e3)\n",
    "    ax.set_ylabel(r'ch{}'.format(n+1),fontsize=10)\n",
    "    ax.set_xlim(0,2**10)\n",
    "    ax.grid()\n",
    "    #ax.ticklabel_format(style='sci', axis='y', scilimits=(0,0))\n",
    "\n",
    "    ax=axs[n][1]\n",
    "    ax.plot((4*rx_fft_op_ideal[n].imag)*1e3,'--')\n",
    "    ax.plot((data[n].imag/2**13)*1e3)\n",
    "    ax.set_xlim(0,2**10)\n",
    "    ax.grid()\n",
    "    #ax.ticklabel_format(style='sci', axis='y', scilimits=(0,0))\n",
    "    \n",
    "axs[0][0].set_title('Real (mV)',fontsize=12)\n",
    "axs[0][1].set_title('Imaginario (mV)',fontsize=12)\n",
    "#axs[0][1].set_title('Imaginary',fontsize=12)\n",
    "axs[int(K/2)-1][0].set_xlabel('n',fontsize=12)\n",
    "axs[int(K/2)-1][1].set_xlabel('n',fontsize=12)\n",
    "#fig.align_xlabels()\n",
    "#plt.tight_layout()\n",
    "plt.savefig('plots/dft_rxc{}_out_1_{}_compa.pdf'.format(K,int(K/2)))\n",
    "#plt.show()"
   ]
  },
  {
   "cell_type": "code",
   "execution_count": null,
   "metadata": {},
   "outputs": [],
   "source": [
    "#Grafico la salida de cada canal\n",
    "fig,axs = plt.subplots(int(K/2),2,sharex=True, sharey=True, gridspec_kw={'wspace': 0.1})\n",
    "fig.set_size_inches((10,8))\n",
    "#fig.suptitle('Channelizer{}'.format(K),fontsize=18)\n",
    "\n",
    "for n in range(int(K/2),K):\n",
    "    ax=axs[n-int(K/2)][0]\n",
    "    ax.plot((4*rx_fft_op_ideal[n].real)*1e3,'--')\n",
    "    ax.plot((data[n].real/2**13)*1e3)\n",
    "    ax.set_ylabel('ch{}'.format(n+1),fontsize=10)\n",
    "    ax.set_xlim(0,2**10)\n",
    "    ax.grid()\n",
    "    ax.ticklabel_format(style='sci', axis='y', scilimits=(0,0))\n",
    "\n",
    "    ax=axs[n-int(K/2)][1]\n",
    "    ax.plot((4*rx_fft_op_ideal[n].imag)*1e3,'--')\n",
    "    ax.plot((data[n].imag/2**13)*1e3)\n",
    "    ax.set_xlim(0,2**10)\n",
    "    ax.grid()\n",
    "    ax.ticklabel_format(style='sci', axis='y', scilimits=(0,0))\n",
    "\n",
    "axs[0][0].set_title('Real (mV)',fontsize=12)\n",
    "axs[0][1].set_title('Imaginario (mV)',fontsize=12)\n",
    "#axs[0][1].set_title('Imaginary',fontsize=12)\n",
    "axs[int(K/2)-1][0].set_xlabel('n',fontsize=12)\n",
    "axs[int(K/2)-1][1].set_xlabel('n',fontsize=12)\n",
    "#fig.align_xlabels()\n",
    "#plt.tight_layout()\n",
    "plt.savefig('plots/dft_rxc{}_out_{}_{}_compa.pdf'.format(K,int(K/2+1),K))\n",
    "plt.show()\n",
    "print(data_len)"
   ]
  },
  {
   "cell_type": "code",
   "execution_count": null,
   "metadata": {},
   "outputs": [],
   "source": [
    "fig,ax=plt.subplots(2,1,sharex=True, figsize=(8,5))\n",
    "plot_type = 'spectrum';\n",
    "#plot_type = 'time domain(abs)';\n",
    "#plot_type = 'time domain(real)';\n",
    "NFFT=2**16\n",
    "print(rx_fft_op_ideal.shape[1])\n",
    "print('Plot output channel {}....'.format(plot_type));\n",
    "#simulacion\n",
    "wws=kaiser(rx_fft_op_ideal.shape[1],8);\n",
    "max_vals = max(abs(fft(rx_fft_op_ideal[2]*wws,NFFT)));#tener en cuenta que este canal debe estar presente\n",
    "fss=fftfreq(NFFT,d=1/(Fs))\n",
    "# figure\n",
    "ww=kaiser(data.shape[1],8);\n",
    "max_val = max(abs(fft(data[2]*ww,NFFT)));#tener en cuenta que este canal debe estar presente\n",
    "f=fftfreq(NFFT,d=1/Fs)\n",
    "for n in range(K):\n",
    "    #chan_err = rx_fft_op_ideal(n,:) - rx_fft_op_core(n,:);\n",
    "    if (plot_type =='spectrum'):\n",
    "        ax[0].plot(fftshift(fss),20*np.log10(abs(fftshift(fft(rx_fft_op_ideal[n]*wws,NFFT)))/max_vals),f'C{n}',label=f'ch{n}');\n",
    "        ax[1].plot(fftshift(f),20*np.log10(abs(fftshift(fft(data[n]*ww,NFFT)))/max_val),f'C{n}',label=f'ch{n}');\n",
    "        #ax.set_xlim(-Fs/(2*K),Fs/(2*K))\n",
    "        ax[0].set_xlim(0,Fs/2)\n",
    "        ax[1].set_xlim(0,Fs/2)\n",
    "        ax[0].set_ylim(-95,5)\n",
    "        ax[1].set_ylim(-95,5)\n",
    "        #ax.legend(loc='lower center',ncol=16)\n",
    "        ax[0].legend(loc='upper right', fontsize='small', ncol=4)\n",
    "        ax[1].legend(loc='upper right', fontsize='small', ncol=4)\n",
    "        ax[0].set_ylabel('Amplitud (dB)',fontsize=12)\n",
    "        ax[1].set_ylabel('Amplitud (dB)',fontsize=12)\n",
    "        #ax[0].set_ylabel(r'Amplitude (dB)',fontsize=12)\n",
    "        #ax[0].set_xlabel('Frequency (Hz)',fontsize=12)\n",
    "        #ax[1].set_ylabel(r'Amplitude (dB)',fontsize=12)\n",
    "        #ax[1].set_xlabel('Frequency (Hz)',fontsize=12)\n",
    "        ax[1].set_xlabel('Frecuencia (Hz)',fontsize=12)\n",
    "        ax[0].grid()\n",
    "        ax[1].grid()\n",
    "        #  plt.plot(20*np.log10(abs(fft(rx_fft_op_core[n]*ww))/max_val),'g');\n",
    "        #  plt.plot(20*np.log10(abs(fft(chan_err*ww))/max_val),'r');\n",
    "    elif (plot_type =='time domain(real)'):\n",
    "        ax.plot(data[n][:1000].real,'C{}'.format(n));\n",
    "        #  plt.plot(rx_fft_op_core[n].real,'g');\n",
    "        #  plt.plot(abs(chan_err),'r');\n",
    "    else:\n",
    "        ax.plot(abs(data[n]),'C{}'.format(n));\n",
    "        #  plt.plot(abs(rx_fft_op_core[n]),'g');\n",
    "        #  plt.plot(abs(chan_err),'r');\n",
    "        #ax.set_title('Receiver channel {:} {:}'.format(n,plot_type));\n",
    "        #plt.legend('Ideal','Cores','Error');\n",
    "#ax.set_xlim(0,300)\n",
    "plt.tight_layout()\n",
    "plt.savefig('plots/dft_rxc16_compa_sim_data.pdf')\n",
    "plt.show()"
   ]
  },
  {
   "cell_type": "code",
   "execution_count": null,
   "metadata": {
    "scrolled": false
   },
   "outputs": [],
   "source": [
    "fig,ax=plt.subplots(2,1,sharex=True,figsize=(8,5))\n",
    "plot_type='spectrum'\n",
    "NFFT=2**16 #data.shape[1]\n",
    "#simulacion\n",
    "wws=kaiser(rx_fft_op_ideal.shape[1],8);\n",
    "max_vals = max(abs(fft(rx_fft_op_ideal[2]*wws,NFFT)));#tener en cuenta que este canal debe estar presente\n",
    "fss=fftfreq(NFFT,d=1/Fs)\n",
    "# figure\n",
    "NFFTi=2**16 #data.shape[1]\n",
    "ww=kaiser(data.shape[1],8);\n",
    "max_val = max(abs(fft(data[2]*ww,NFFTi)));#tener en cuenta que este canal debe estar presente\n",
    "f=fftfreq(NFFTi,d=1/Fs)\n",
    "for n in range(K):\n",
    "    #chan_err = rx_fft_op_ideal(n,:) - rx_fft_op_core(n,:);\n",
    "    if (plot_type =='spectrum'):\n",
    "        ax[0].plot(fftshift(fss),20*np.log10(abs(fftshift(fft(rx_fft_op_ideal[n]*wws,NFFT)))/max_vals),f'C{n}',label=f'ch{n}');\n",
    "        ax[1].plot(fftshift(f),20*np.log10(abs(fftshift(fft(data[n]*ww,NFFTi)))/max_val),f'C{n}',label=f'ch{n}');\n",
    "        #ax.set_xlim(-Fs/(2*K),Fs/(2*K))\n",
    "        ax[0].grid()\n",
    "        ax[0].set_xlim(0,Fs/2)\n",
    "        ax[1].set_xlim(0,Fs/2)\n",
    "        ax[0].set_ylim(-95,5)\n",
    "        ax[1].set_ylim(-95,5)\n",
    "        #ax[0].set_ylabel('Amplitud (dB)')\n",
    "        #ax[1].set_ylabel('Amplitud (dB)')\n",
    "        #ax.legend(loc='lower center',ncol=16)\n",
    "        ax[0].legend(loc='upper right', fontsize='small', ncol=4)\n",
    "        ax[1].legend(loc='upper right', fontsize='small', ncol=4)\n",
    "        #ax[0].set_ylabel('Amplitud (dB)')\n",
    "        #ax[1].set_ylabel('Amplitud (dB)')\n",
    "        ax[0].set_ylabel(r'Amplitude (dB)',fontsize=12)\n",
    "        #ax[0].set_xlabel('Frequency (Hz)',fontsize=12)\n",
    "        ax[1].set_ylabel(r'Amplitude (dB)',fontsize=12)\n",
    "        ax[1].set_xlabel('Frequency (Hz)',fontsize=12)\n",
    "        #  plt.plot(20*np.log10(abs(fft(rx_fft_op_core[n]*ww))/max_val),'g');\n",
    "        #  plt.plot(20*np.log10(abs(fft(chan_err*ww))/max_val),'r');\n",
    "        \n",
    "    elif (plot_type =='time domain(real)'):\n",
    "        ax.plot(data[n][:1000].real,'C{}'.format(n));\n",
    "        #  plt.plot(rx_fft_op_core[n].real,'g');\n",
    "        #  plt.plot(abs(chan_err),'r');\n",
    "    else:\n",
    "        ax.plot(abs(data[n]),'C{}'.format(n));\n",
    "        #  plt.plot(abs(rx_fft_op_core[n]),'g');\n",
    "        #  plt.plot(abs(chan_err),'r');\n",
    "        #ax.set_title('Receiver channel {:} {:}'.format(n,plot_type));\n",
    "        #plt.legend('Ideal','Cores','Error');\n",
    "#ax.set_xlim(0,300)\n",
    "ax[0].grid()\n",
    "ax[0].set_xlim(0,Fs/2)\n",
    "ax[1].set_xlim(0,Fs/2)\n",
    "ax[0].set_ylim(-95,5)\n",
    "ax[1].set_ylim(-95,5)\n",
    "#ax[0].set_ylabel('Amplitud (dB)')\n",
    "#ax[1].set_ylabel('Amplitud (dB)')\n",
    "#ax.legend(loc='lower center',ncol=16)\n",
    "ax[0].legend(loc='upper right', fontsize='small', ncol=2)\n",
    "ax[1].legend(loc='upper right', fontsize='small', ncol=2)\n",
    "#ax[0].set_ylabel('Amplitud (dB)')\n",
    "#ax[1].set_ylabel('Amplitud (dB)')\n",
    "ax[0].set_ylabel(r'Amplitude (dB)',fontsize=12)\n",
    "#ax[0].set_xlabel('Frequency (Hz)',fontsize=12)\n",
    "ax[1].set_ylabel(r'Amplitude (dB)',fontsize=12)\n",
    "ax[1].set_xlabel('Frequency (Hz)',fontsize=12)\n",
    "#  plt.plot(20*np.log10(abs(fft(rx_fft_op_core[n]*ww))/max_val),'g');\n",
    "#  plt.plot(20*np.log10(abs(fft(chan_err*ww))/max_val),'r');\n",
    "plt.grid()\n",
    "\n",
    "# this is an inset axes over the main axes\n",
    "a = plt.axes([.4, .4, .3, .3], alpha=0.02)\n",
    "for i in range(K):\n",
    "    a.plot(fftshift(fss),20*np.log10(abs(fftshift(fft(rx_fft_op_ideal[i]*wws,NFFT)))/max_vals),f'C{i}',label=f'ch{i}');\n",
    "    #a.plot(f[:int(N/2)],X[i])\n",
    "    #a.plot(fftshift(f),20*np.log10(fftshift(X[i])),label='CH{}'.format(i+1),lw=1)\n",
    "#for i in range(0,len(PX)):\n",
    "#    a.plot(f[:int(N/2)],PX[i])\n",
    "a.ticklabel_format(style='sci', axis='x', scilimits=(0,0))\n",
    "#a.set_xlabel('Charge [ADC.bin]',fontsize=14, fontname='monospace')\n",
    "#a.set_ylabel('Counts',fontsize=14, fontname='monospace')\n",
    "a.set_xlim(0,Fs/K)\n",
    "a.set_ylim(-75,2)\n",
    "#a.autoscale()\n",
    "a.grid()\n",
    "\n",
    "plt.tight_layout()\n",
    "plt.savefig('plots/dft_rxc16_compa_sim_data.pdf')\n",
    "plt.show()"
   ]
  },
  {
   "cell_type": "code",
   "execution_count": null,
   "metadata": {
    "scrolled": false
   },
   "outputs": [],
   "source": [
    "from mpl_toolkits.axes_grid1.inset_locator import inset_axes\n",
    "\n",
    "fig,ax=plt.subplots(2,1,sharex=True,figsize=(10,8))\n",
    "NFFT=2**16 #data.shape[1]\n",
    "#simulacion\n",
    "wws=kaiser(rx_fft_op_ideal.shape[1],8);\n",
    "max_vals = max(abs(fft(rx_fft_op_ideal[2]*wws,NFFT)));#tener en cuenta que este canal debe estar presente\n",
    "fss=fftfreq(NFFT,d=1/Fs)\n",
    "# figure\n",
    "NFFTi=2**16 #data.shape[1]\n",
    "ww=kaiser(data.shape[1],8);\n",
    "max_val = max(abs(fft(data[2]*ww,NFFTi)));#tener en cuenta que este canal debe estar presente\n",
    "f=fftfreq(NFFTi,d=1/Fs)\n",
    "for n in range(K):\n",
    "    ax[0].plot(fftshift(fss)/1e6,20*np.log10(abs(fftshift(fft(rx_fft_op_ideal[n]*wws,NFFT)))/max_vals),f'C{n}',label=f'ch{n}');    \n",
    "    ax[1].plot(fftshift(f)/1e6,20*np.log10(abs(fftshift(fft(data[n]*ww,NFFTi)))/max_val),f'C{n}',label=f'ch{n}');\n",
    "    \n",
    "#ax.set_xlim(-Fs/(2*K),Fs/(2*K))   \n",
    "ax[1].set_xlim(0,Fs/(2*1e6))\n",
    "ax[1].set_ylim(-95,5)\n",
    "#ax[1].set_ylabel('Amplitud (dB)')\n",
    "#ax.legend(loc='lower center',ncol=16)    \n",
    "ax[1].legend(title='b)',title_fontsize='x-large', loc='upper right', fontsize='small', ncol=2)    \n",
    "#ax[1].set_ylabel('Amplitud (dB)')    \n",
    "ax[1].set_ylabel(r'Amplitude (dB)',fontsize=12)\n",
    "ax[1].set_xlabel('Frequency (MHz)',fontsize=12)\n",
    "#  plt.plot(20*np.log10(abs(fft(rx_fft_op_core[n]*ww))/max_val),'g');\n",
    "#  plt.plot(20*np.log10(abs(fft(chan_err*ww))/max_val),'r');\n",
    "    \n",
    "ax[0].legend(title='a)',title_fontsize='x-large', loc='upper right', fontsize='small', ncol=2)\n",
    "#ax[0].set_ylabel('Amplitud (dB)')\n",
    "ax[0].set_ylabel(r'Amplitude (dB)',fontsize=12)\n",
    "#ax[0].set_xlabel('Frequency (Hz)',fontsize=12)\n",
    "    \n",
    "#ax.set_xlim(0,300)\n",
    "ax[0].grid()\n",
    "ax[0].set_xlim(0,Fs/(2*1e6))\n",
    "#ax[1].set_xlim(0,Fs/2)\n",
    "ax[0].set_ylim(-95,5)\n",
    "#ax[1].set_ylim(-95,5)\n",
    "#ax[0].set_ylabel('Amplitud (dB)')\n",
    "#ax[1].set_ylabel('Amplitud (dB)')\n",
    "#ax.legend(loc='lower center',ncol=16)\n",
    "#ax[0].legend(loc='upper right', fontsize='small', ncol=2)\n",
    "#ax[1].legend(loc='upper right', fontsize='small', ncol=2)\n",
    "#ax[0].set_ylabel('Amplitud (dB)')\n",
    "#ax[1].set_ylabel('Amplitud (dB)')\n",
    "ax[0].set_ylabel(r'Amplitude (dB)',fontsize=12)\n",
    "#ax[0].set_xlabel('Frequency (Hz)',fontsize=12)\n",
    "ax[1].set_ylabel(r'Amplitude (dB)',fontsize=12)\n",
    "ax[1].set_xlabel('Frequency (MHz)',fontsize=12)\n",
    "#  plt.plot(20*np.log10(abs(fft(rx_fft_op_core[n]*ww))/max_val),'g');\n",
    "#  plt.plot(20*np.log10(abs(fft(chan_err*ww))/max_val),'r');\n",
    "plt.grid()\n",
    "\n",
    "\n",
    "# Create inset of width 1.3 inches and height 0.9 inches\n",
    "# at the default upper right location\n",
    "#axins = inset_axes(ax[0], width=1.3, height=0.9)\n",
    "\n",
    "# Create inset of width 30% and height 40% of the parent axes' bounding box\n",
    "# at the lower left corner (loc=3)\n",
    "#axins2 = inset_axes(ax[0], width=\"30%\", height=\"40%\", loc=3)\n",
    "\n",
    "# Create inset of mixed specifications in the second subplot;\n",
    "# width is 30% of parent axes' bounding box and\n",
    "# height is 1 inch at the upper left corner (loc=2)\n",
    "a = inset_axes(ax[0], \n",
    "               width=\"50%\", \n",
    "               height=\"100%\", \n",
    "               bbox_to_anchor=(.3, .43, .8, .55),\n",
    "               bbox_transform=ax[0].transAxes,\n",
    "               loc=3)\n",
    "for i in range(K):\n",
    "    a.plot(fftshift(fss)/1e6,20*np.log10(abs(fftshift(fft(rx_fft_op_ideal[i]*wws,NFFT)))/max_vals),f'C{i}',label=f'ch{i}');\n",
    "    #a.plot(f[:int(N/2)],X[i])\n",
    "#a.ticklabel_format(style='sci', axis='x', scilimits=(0,0))\n",
    "a.tick_params(labelsize=10)\n",
    "a.set_xlim(0,5)\n",
    "a.set_ylim(-95,5)\n",
    "#a.autoscale()\n",
    "a.grid()\n",
    "\n",
    "b = inset_axes(ax[1], \n",
    "               width=\"50%\", \n",
    "               height=\"100%\", \n",
    "               bbox_to_anchor=(.3, .43, .8, .55),\n",
    "               bbox_transform=ax[1].transAxes,\n",
    "               loc=3)\n",
    "for i in range(K):\n",
    "    b.plot(fftshift(f)/1e6,20*np.log10(abs(fftshift(fft(data[i]*ww,NFFTi)))/max_val),f'C{i}',label=f'ch{i}');    #a.plot(f[:int(N/2)],X[i])\n",
    "#b.ticklabel_format(style='sci', axis='x', scilimits=(0,0))\n",
    "b.tick_params(labelsize=10)\n",
    "b.set_xlim(0,5)\n",
    "b.set_ylim(-95,5)\n",
    "#a.autoscale()\n",
    "b.grid()\n",
    "# Create an inset in the lower right corner (loc=4) with borderpad=1, i.e.\n",
    "# 10 points padding (as 10pt is the default fontsize) to the parent axes\n",
    "#axins4 = inset_axes(ax[1], width=\"20%\", height=\"20%\", loc=4, borderpad=1)\n",
    "\n",
    "# Turn ticklabels of insets off\n",
    "#for axi in [axins, axins2, axins3, axins4]:\n",
    "#    axi.tick_params(labelleft=False, labelbottom=False)\n",
    "\n",
    "\n",
    "# this is an inset axes over the main axes\n",
    "#a = plt.axes(ax[0], alpha=0.02)\n",
    "#for i in range(K):\n",
    "#    a.plot(fftshift(fss),20*np.log10(abs(fftshift(fft(rx_fft_op_ideal[i]*wws,NFFT)))/max_vals),f'C{i}',label=f'ch{i}');\n",
    "    #a.plot(f[:int(N/2)],X[i])\n",
    "    #a.plot(fftshift(f),20*np.log10(fftshift(X[i])),label='CH{}'.format(i+1),lw=1)\n",
    "#for i in range(0,len(PX)):\n",
    "#    a.plot(f[:int(N/2)],PX[i])\n",
    "#a.ticklabel_format(style='sci', axis='x', scilimits=(0,0))\n",
    "#a.set_xlabel('Charge [ADC.bin]',fontsize=14, fontname='monospace')\n",
    "#a.set_ylabel('Counts',fontsize=14, fontname='monospace')\n",
    "#a.set_xlim(0,Fs/K)\n",
    "#a.set_ylim(-75,2)\n",
    "#a.autoscale()\n",
    "#a.grid()\n",
    "\n",
    "plt.tight_layout()\n",
    "plt.savefig('plots/dft_rxc16_compa_sim_data_inset.pdf')\n",
    "plt.show()"
   ]
  },
  {
   "cell_type": "code",
   "execution_count": null,
   "metadata": {},
   "outputs": [],
   "source": []
  }
 ],
 "metadata": {
  "kernelspec": {
   "display_name": "Python 3",
   "language": "python",
   "name": "python3"
  },
  "language_info": {
   "codemirror_mode": {
    "name": "ipython",
    "version": 3
   },
   "file_extension": ".py",
   "mimetype": "text/x-python",
   "name": "python",
   "nbconvert_exporter": "python",
   "pygments_lexer": "ipython3",
   "version": "3.8.5"
  },
  "name": "01_introd_python.ipynb"
 },
 "nbformat": 4,
 "nbformat_minor": 1
}
