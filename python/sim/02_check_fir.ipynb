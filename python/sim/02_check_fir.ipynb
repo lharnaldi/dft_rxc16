{
 "cells": [
  {
   "cell_type": "markdown",
   "metadata": {
    "ein.tags": "worksheet-0",
    "slideshow": {
     "slide_type": "-"
    }
   },
   "source": [
    "# Verificación de la simulación del filtro FIR\n",
    "## Condición $K=M, n_0=0, k_0=0$  y DFT-FB"
   ]
  },
  {
   "cell_type": "markdown",
   "metadata": {
    "ein.tags": "worksheet-0",
    "slideshow": {
     "slide_type": "-"
    }
   },
   "source": [
    "### Diseño\n",
    "Este script proviene de check_fir.py. Compara la salida de las simulaciones con Python y la que obtengo de simular el FIR con Vivado.\n",
    "\n",
    "El proyecto correspondiente está en **/home/arnaldi/vtests/fir_test**"
   ]
  },
  {
   "cell_type": "markdown",
   "metadata": {},
   "source": [
    "Importo los modulos necesarios"
   ]
  },
  {
   "cell_type": "code",
   "execution_count": null,
   "metadata": {
    "autoscroll": false,
    "ein.hycell": false,
    "ein.tags": "worksheet-0",
    "slideshow": {
     "slide_type": "-"
    }
   },
   "outputs": [],
   "source": [
    "%matplotlib notebook\n",
    "import numpy as np\n",
    "import matplotlib.pyplot as plt\n",
    "from scipy.signal import lfilter, kaiser\n",
    "from scipy.fftpack import fft, fftfreq, fftshift\n",
    "from dsp_funcs import h_freqz, mfreqz"
   ]
  },
  {
   "cell_type": "markdown",
   "metadata": {
    "ein.tags": "worksheet-0",
    "slideshow": {
     "slide_type": "-"
    }
   },
   "source": [
    "Configuración."
   ]
  },
  {
   "cell_type": "code",
   "execution_count": null,
   "metadata": {
    "autoscroll": false,
    "ein.hycell": false,
    "ein.tags": "worksheet-0",
    "slideshow": {
     "slide_type": "-"
    }
   },
   "outputs": [],
   "source": [
    "Fs            = 125e6    # Sampling frequency\n",
    "M             = 16       # downsampling ratio\n",
    "I             = 1        # oversampling factor\n",
    "K             = M*I      # number of channels\n",
    "k0            = 0        # \n",
    "n0            = 0\n",
    "data_len       = 2**16\n",
    "prototipo      = '../../coefficients/coeff/prototipo.csv';\n",
    "c_frac_width  = 15       # fractional whdth for data\n",
    "write_golden_data = 1;"
   ]
  },
  {
   "cell_type": "markdown",
   "metadata": {},
   "source": [
    "Primero todo lo relacionado con los archivos de antena, que salen del transmisor (en python) y que uso como entrada en las simulaciones de Vivado.\n",
    "\n",
    "Esto es ant_source_{real/imag}.dat. La finalización en _ckecks_ es para comprobar el efecto del truncamiento en los datos."
   ]
  },
  {
   "cell_type": "code",
   "execution_count": null,
   "metadata": {
    "autoscroll": false,
    "ein.hycell": false,
    "ein.tags": "worksheet-0",
    "slideshow": {
     "slide_type": "-"
    }
   },
   "outputs": [],
   "source": [
    "ant_coe_r       = '../../coefficients/coeff/ant_source_real_cosine_16_checks.coe'\n",
    "ant_coe_i       = '../../coefficients/coeff/ant_source_imag_cosine_16_checks.coe'"
   ]
  },
  {
   "cell_type": "markdown",
   "metadata": {
    "ein.tags": "worksheet-0",
    "slideshow": {
     "slide_type": "-"
    }
   },
   "source": [
    "Cargo la señal de entrada. Esto es para comprobar que lo que estoy leyendo está bien. Lo que sigue es la serie de conversiones que debo hacer para tener los datos nuevamente similares a como salen en  ant_source_{real/imag}.dat, nada más que ahora están como coeficientes con sus respectivas conversiones a datos truncados al número necesario de bits que voy a usar en la realidad."
   ]
  },
  {
   "cell_type": "code",
   "execution_count": null,
   "metadata": {
    "autoscroll": false,
    "ein.hycell": false,
    "ein.tags": "worksheet-0",
    "slideshow": {
     "slide_type": "-"
    }
   },
   "outputs": [],
   "source": [
    "with open(ant_coe_r, 'r') as fp:\n",
    "    buff=fp.read()\n",
    "#convierto a enteros de 16 bits\n",
    "din_coe_r= np.array([int(s,16) for s in buff.split(',')])\n",
    "\n",
    "with open(ant_coe_i, 'r') as fp:\n",
    "    buff=fp.read()\n",
    "#convierto a enteros de 16 bits\n",
    "din_coe_i= np.array([int(s,16) for s in buff.split(',')])\n",
    "\n",
    "a=np.array([din_coe_r[i]/2**c_frac_width if din_coe_r[i] <= 2**c_frac_width else\n",
    "    (din_coe_r[i]/2**c_frac_width)-2 for i in range(din_coe_r.size)])\n",
    "b=np.array([din_coe_i[i]/2**c_frac_width if din_coe_i[i] <= 2**c_frac_width else\n",
    "    (din_coe_i[i]/2**c_frac_width)-2 for i in range(din_coe_i.size)])\n",
    "\n",
    "din_coe_tot = a + 1j*b"
   ]
  },
  {
   "cell_type": "markdown",
   "metadata": {},
   "source": [
    "Esto es lo mismo que ant_{real/imag}_cosine_data.dat en gen_tonos_mkids.py"
   ]
  },
  {
   "cell_type": "code",
   "execution_count": null,
   "metadata": {
    "autoscroll": false,
    "ein.hycell": false,
    "ein.tags": "worksheet-0",
    "slideshow": {
     "slide_type": "-"
    }
   },
   "outputs": [],
   "source": [
    "coe_datas = np.reshape(din_coe_tot,(K,int(din_coe_tot.size/K)), order='F')"
   ]
  },
  {
   "cell_type": "markdown",
   "metadata": {},
   "source": [
    "Grafico el espectro de la señal completa fdm después de rearmarla."
   ]
  },
  {
   "cell_type": "code",
   "execution_count": null,
   "metadata": {},
   "outputs": [],
   "source": [
    "#plt.figure()\n",
    "print('Plot combined spectrum....');\n",
    "fig,ax=plt.subplots(figsize=(10,6))\n",
    "#NFFT=din_coe_tot.size\n",
    "NFFT=1024\n",
    "f=fftfreq(NFFT,d=1/Fs)\n",
    "#ww=kaiser(K*data_len,8);\n",
    "ww = kaiser(NFFT, beta=8)\n",
    "#max_val   = max(abs(fft(din_coe_tot*ww,NFFT)));\n",
    "max_vali  = max(abs(fft(din_coe_tot,NFFT)));\n",
    "ax.plot(fftshift(f),20*np.log10((abs(fftshift(fft(din_coe_tot,NFFT))))/max_vali),'b');\n",
    "#ax.plot(fftshift(f),20*np.log10((abs(fftshift(fft(din_coe_tot*ww,NFFT))))/max_val),'b');\n",
    "#plt.plot(f,20*np.log10((abs(fft(ant_ideal,NFFT)))/max_val),'b');\n",
    "for i in range(int(K/2)):\n",
    "    ax.vlines((Fs/K)*i,-120,0,ls='dotted',color='red')\n",
    "for i in reversed(range(int(K/2))):\n",
    "    ax.vlines(-(Fs/K)*i,-120,0,ls='dotted',color='red')\n",
    "\n",
    "#ax.vlines(-(Fs/K)*15+156.0e3,-150,0,color='green')\n",
    "#ax.vlines(-(Fs/K)*15-180.0e3,-150,0,color='orange')\n",
    "#plt.plot(f,20*np.log10(abs(fft(ant_ideal))/max_val),'b');\n",
    "#ax.set_title('Espectro combinado del transmisor');#Transmitter combined spectrum');\n",
    "#plt.legend('Ideal');\n",
    "#axis tight\n",
    "ax.axis([-Fs/2, Fs/2, -60, 2])\n",
    "ax.set_ylabel('Amplitud (dB)')\n",
    "ax.set_xlabel('Frecuencia (Hz)')\n",
    "\n",
    "plt.show()"
   ]
  },
  {
   "cell_type": "markdown",
   "metadata": {
    "ein.tags": "worksheet-0",
    "slideshow": {
     "slide_type": "-"
    }
   },
   "source": [
    "Datos que uso en la simulacion de Python"
   ]
  },
  {
   "cell_type": "code",
   "execution_count": null,
   "metadata": {
    "autoscroll": false,
    "ein.hycell": false,
    "ein.tags": "worksheet-0",
    "slideshow": {
     "slide_type": "-"
    }
   },
   "outputs": [],
   "source": [
    "#fname_ideal_in_r = '../../golden_data/tx_source_real_cosine.dat'\n",
    "#fname_ideal_in_i = '../../golden_data/tx_source_imag_cosine.dat'"
   ]
  },
  {
   "cell_type": "markdown",
   "metadata": {
    "ein.tags": "worksheet-0",
    "slideshow": {
     "slide_type": "-"
    }
   },
   "source": [
    "# Salida de Vivado\n",
    "\n",
    "Datos que obtengo luego de simular el FIR en Vivado."
   ]
  },
  {
   "cell_type": "code",
   "execution_count": null,
   "metadata": {
    "autoscroll": false,
    "ein.hycell": false,
    "ein.tags": "worksheet-0",
    "slideshow": {
     "slide_type": "-"
    }
   },
   "outputs": [],
   "source": [
    "viv_fir_op_r = '/home/arnaldi/work/vtests/fir_test/fir_test.sim/sim_1/behav/xsim/fir_op_real_cosine.dat';\n",
    "viv_fir_op_i = '/home/arnaldi/work/vtests/fir_test/fir_test.sim/sim_1/behav/xsim/fir_op_imag_cosine.dat';\n",
    "#fir_op_1_r = '../axis_rxchan16.sim/sim_1/behav/xsim/fir1_op_real_cosine.dat';\n",
    "#fir_op_1_i = '../axis_rxchan16.sim/sim_1/behav/xsim/fir1_op_imag_cosine.dat';\n",
    "#fir_op_0_r = 'data_ant/fir0_op_real_cosine.dat';\n",
    "#fir_op_0_i = 'data_ant/fir0_op_imag_cosine.dat';\n",
    "#fir_op_1_r = 'data_ant/fir1_op_real_cosine.dat';\n",
    "#fir_op_1_i = 'data_ant/fir1_op_imag_cosine.dat';\n",
    "\n",
    "\n",
    "viv_r_fir_op=np.loadtxt(viv_fir_op_r); # senial I(n)\n",
    "viv_i_fir_op=np.loadtxt(viv_fir_op_i); # senial  Q(n)\n",
    "#i_fir1_sim=np.loadtxt(fir_op_1_r); # senial I(n)\n",
    "#q_fir1_sim=np.loadtxt(fir_op_1_i); # senial  Q(n)\n",
    "viv_x_fir_op=viv_r_fir_op + 1j*viv_i_fir_op #armamos la senial compleja\n",
    "#x_fir1_sim=i_fir1_sim + 1j*q_fir1_sim; #armamos la senial compleja"
   ]
  },
  {
   "cell_type": "markdown",
   "metadata": {},
   "source": [
    "Tomamos el número correcto de muestras."
   ]
  },
  {
   "cell_type": "code",
   "execution_count": null,
   "metadata": {},
   "outputs": [],
   "source": [
    "viv_r_fir_op=np.resize(viv_r_fir_op,viv_r_fir_op.size - len(viv_r_fir_op)%K)\n",
    "viv_i_fir_op=np.resize(viv_i_fir_op,viv_i_fir_op.size - len(viv_i_fir_op)%K)\n",
    "viv_x_fir_op=np.resize(viv_x_fir_op,viv_x_fir_op.size - len(viv_x_fir_op)%K)\n",
    "#i_fir1_sim=np.resize(i_fir1_sim,i_fir1_sim.size - len(i_fir1_sim)%K)\n",
    "#q_fir1_sim=np.resize(q_fir1_sim,q_fir1_sim.size - len(q_fir1_sim)%K)\n",
    "#x_fir1_sim=np.resize(x_fir1_sim,x_fir1_sim.size - len(x_fir1_sim)%K)"
   ]
  },
  {
   "cell_type": "markdown",
   "metadata": {},
   "source": [
    "Datos ideales (Python)"
   ]
  },
  {
   "cell_type": "code",
   "execution_count": null,
   "metadata": {},
   "outputs": [],
   "source": [
    "ideal_op_r    = '../../golden_data/rx_fir_op_ideal_real_cosine.dat';\n",
    "ideal_op_i    = '../../golden_data/rx_fir_op_ideal_imag_cosine.dat';\n",
    "\n",
    "i_ideal=np.loadtxt(ideal_op_r); # senial I(n)\n",
    "q_ideal=np.loadtxt(ideal_op_i); # senial  Q(n)\n",
    "x_ideal=i_ideal + 1j*q_ideal; #armamos la senial compleja"
   ]
  },
  {
   "cell_type": "code",
   "execution_count": null,
   "metadata": {},
   "outputs": [],
   "source": [
    "fig,ax = plt.subplots(figsize=(10,5))\n",
    "#fig.set_size_inches((10,6))\n",
    "#fig.suptitle('Input Spectrum',fontsize=18)\n",
    "\n",
    "#NFFT=viv_x_fir_op.size\n",
    "NFFT=1024\n",
    "ww_viv = kaiser(viv_x_fir_op.size, beta=8)\n",
    "ww_ideal = kaiser(x_ideal.size, beta=8)\n",
    "X_viv=fft(viv_x_fir_op*ww_viv,NFFT)\n",
    "X_ideal=fft(x_ideal*ww_ideal,NFFT)\n",
    "freq=fftfreq(NFFT,d=1/Fs)\n",
    "#for n in range(K):\n",
    "ax.plot(fftshift(freq),20*np.log10(fftshift(abs(X_ideal/max(abs(X_ideal))))),'r',label='Python')\n",
    "ax.plot(fftshift(freq),20*np.log10(fftshift(abs(X_viv/max(abs(X_viv))))),label='Vivado')\n",
    "#ax.plot(fftshift(freq),20*np.log10(fftshift(abs(X_viv))),label='Vivado')\n",
    "#ax.plot(fftshift(freq),20*np.log10(fftshift(abs(X_ideal))),label='Python')\n",
    "\n",
    "for i in range(int(K/2)):\n",
    "    ax.vlines((Fs/K)*i,-120,0,linestyle='dotted',color='red')\n",
    "for i in reversed(range(int(K/2))):\n",
    "    ax.vlines(-(Fs/K)*i,-120,0,linestyle='dotted',color='red')\n",
    "\n",
    "ax.set_xlim(-Fs/2,Fs/2)\n",
    "ax.set_ylim(-55,2)\n",
    "ax.grid(ls='dotted')\n",
    "ax.legend(loc=0,fontsize=12)\n",
    "ax.ticklabel_format(style='sci', axis='x', scilimits=(0,0))\n",
    "ax.set_ylabel(r'Amplitud (dB)',fontsize=14)\n",
    "ax.set_xlabel('Frecuencia (Hz)',fontsize=14)\n",
    "plt.tight_layout()\n",
    "plt.savefig('plots/fir_out_viv_py.pdf')\n",
    "plt.show()"
   ]
  },
  {
   "cell_type": "markdown",
   "metadata": {},
   "source": [
    "Recuperar el filtro prototipo "
   ]
  },
  {
   "cell_type": "code",
   "execution_count": null,
   "metadata": {},
   "outputs": [],
   "source": [
    "proto = np.loadtxt(prototipo,delimiter=',')"
   ]
  },
  {
   "cell_type": "markdown",
   "metadata": {},
   "source": [
    "###########################################################################\n",
    "# Receptor\n",
    "\n",
    "A partir de acá implemento lo que sería el receptor\n",
    "##########################################################################\n",
    "\n",
    "Divido los datos en canales\n",
    "\n",
    "El conmutador del receptor rota en sentido contrario al del transmisor. Por eso se usa la función \"flipud\".\n",
    "\n",
    "Reshape de los coeficientes del filtro en filtros polifásicos es decir, dividir en las $K$ polifases. \n",
    "\n",
    "Acá es donde armo los filtros polifásicos: $\\bar{p}'_\\rho(m) = h(mM-\\rho),\\quad \\rho=0,1,...,M-1,\\quad K=M$.\n",
    "    \n",
    "Todo esto, según pag. 361 de Crochiere y mis desarrollos en la pag. 186 de mi libro de notas."
   ]
  },
  {
   "cell_type": "code",
   "execution_count": null,
   "metadata": {},
   "outputs": [],
   "source": [
    "#Ep=np.zeros((K,int(proto.size/K))) "
   ]
  },
  {
   "cell_type": "code",
   "execution_count": null,
   "metadata": {},
   "outputs": [],
   "source": [
    "#for ro in range(K):\n",
    "#    for m in range(int(proto.size/K)):\n",
    "#        Ep[ro][m] = proto[int(M*m-ro)] "
   ]
  },
  {
   "cell_type": "code",
   "execution_count": null,
   "metadata": {},
   "outputs": [],
   "source": [
    "#for ro in range(1,K):\n",
    "#    Ep[ro][0] = 0 "
   ]
  },
  {
   "cell_type": "markdown",
   "metadata": {},
   "source": [
    "Para graficar las respuestas en el tiempo de cada uno de los filtros polifásicos"
   ]
  },
  {
   "cell_type": "code",
   "execution_count": null,
   "metadata": {},
   "outputs": [],
   "source": [
    "#plt.figure()\n",
    "#for i in range(K):\n",
    "    #plt.subplots()\n",
    "    #mfreqz(K*Ep[i])\n",
    "#    h_freqz(K*Ep[i])\n",
    "    #plt.savefig('plots/f{}.pdf'.format(i))\n",
    "#    plt.tight_layout()\n",
    "#plt.show()"
   ]
  },
  {
   "cell_type": "markdown",
   "metadata": {},
   "source": [
    "Ahora analizo cuáles son las salidas respectivas de mis filtros para cada entrada FIR (filtros polifásicos)"
   ]
  },
  {
   "cell_type": "markdown",
   "metadata": {},
   "source": [
    "FIR (polyphase filters)"
   ]
  },
  {
   "cell_type": "code",
   "execution_count": null,
   "metadata": {
    "autoscroll": false,
    "ein.hycell": false,
    "ein.tags": "worksheet-0",
    "slideshow": {
     "slide_type": "-"
    }
   },
   "outputs": [],
   "source": [
    "#rx_fir0_op_ideal = np.zeros((M,coe_datas.shape[1]),dtype=complex)\n",
    "#rx_fir1_op_ideal = np.zeros((M,coe_datas.shape[1]),dtype=complex)\n",
    "#rx_fir_op_ideal = np.zeros((K,coe_datas.shape[1]),dtype=complex)\n",
    "#print('Run FIRs....');\n",
    "#for n in range(M):\n",
    "#   rx_fir0_op_ideal[n] = lfilter(filts0[n],1,coe_datas[n])\n",
    "#for n in range(M):\n",
    "#   rx_fir1_op_ideal[n] = lfilter(filts1[n],1,coe_datas[n])\n",
    "#for n in range(K):\n",
    "#    rx_fir_op_ideal[n] = lfilter(K*Ep[n],1,coe_datas[n])"
   ]
  },
  {
   "cell_type": "markdown",
   "metadata": {},
   "source": [
    "Aquí multiplico por 2 en correspondencia con lo que hago en la línea 335 de gen_tonos_mkid.py. De esta forma tengo todas las simulaciones compatibilizadas.\n",
    "\n",
    "Así coincide con la salida FIX19_20 que tengo en el FIR compiler. Esto hace que tenga a la salida del FIR los -24dB que corresponden con el diseño de los filtros y su ganancia (1/M) = (1/16)"
   ]
  },
  {
   "cell_type": "code",
   "execution_count": null,
   "metadata": {},
   "outputs": [],
   "source": [
    "#rx_fir_op_ideal = 2*rx_fir_op_ideal"
   ]
  },
  {
   "cell_type": "markdown",
   "metadata": {
    "ein.tags": "worksheet-0",
    "slideshow": {
     "slide_type": "-"
    }
   },
   "source": [
    "Ahora para compatibilizar la simulacion sin hacer el swap aun en vhdl lo hago acá"
   ]
  },
  {
   "cell_type": "code",
   "execution_count": null,
   "metadata": {
    "autoscroll": false,
    "ein.hycell": false,
    "ein.tags": "worksheet-0",
    "slideshow": {
     "slide_type": "-"
    }
   },
   "outputs": [],
   "source": [
    "#x0=np.reshape(x_fir0_sim,(int(x_fir0_sim.size/M),M)) \n",
    "#x1=np.reshape(x_fir1_sim,(int(x_fir1_sim.size/M),M))                                       \n",
    "#x=np.array([])  \n",
    "#for n in range(x0.shape[0]):\n",
    "#       if n%2: \n",
    "#               x=np.append(x,np.concatenate([x0[n],x1[n]])) \n",
    "#       else: \n",
    "#               x=np.append(x,np.concatenate([x1[n],x0[n]])) \n",
    "#xc=np.reshape(x,(K,int(x.size/K)),order='F')  \n",
    "viv_xc=np.reshape(viv_x_fir_op,(K,int(viv_x_fir_op.size/K)),order='F')\n",
    "ideal_xc=np.reshape(x_ideal,(K,int(x_ideal.size/K)),order='F')"
   ]
  },
  {
   "cell_type": "markdown",
   "metadata": {},
   "source": [
    "IFFT (mixers)"
   ]
  },
  {
   "cell_type": "markdown",
   "metadata": {},
   "source": [
    "Gráfica de la salida de cada canal filtrado. Acá lo que hago es comparar la salida de Vivado con lo que me da la simulación de los filtros con Python."
   ]
  },
  {
   "cell_type": "code",
   "execution_count": null,
   "metadata": {},
   "outputs": [],
   "source": [
    "#Ahora grafico lo que obtengo a la salida del filtro polifásico del rx\n",
    "#Grafico la salida de cada canal filtrado\n",
    "fig,axs = plt.subplots(int(K/2),2,sharex=True, sharey=True, gridspec_kw={'wspace': 0.1})\n",
    "fig.set_size_inches((10,8))\n",
    "#fig.suptitle('Channelizer{}'.format(K),fontsize=18)\n",
    "\n",
    "for n in range(0,int(K/2)):\n",
    "    ax=axs[n][0]\n",
    "    #ax.plot(rx_fir_op_ideal[n].real)\n",
    "    ax.plot(2*K**2*ideal_xc[n].real)\n",
    "    ax.plot(viv_xc[n].real,'r.',markevery=9)\n",
    "    #ax.plot(2*K*(rx_fir_op_ideal[n][:viv_xc[n].size].real-viv_xc[n].real),'r.-',markevery=9)\n",
    "    ax.set_ylabel(r'ch{} (V)'.format(n+1),fontsize=10)\n",
    "    ax.set_xlim(0,1024)\n",
    "    ax.grid()\n",
    "\n",
    "    ax=axs[n][1]\n",
    "    #ax.plot(rx_fir_op_ideal[n].imag)\n",
    "    ax.plot(2*K**2*ideal_xc[n].imag)\n",
    "    ax.plot(viv_xc[n].imag,'r.',markevery=9)\n",
    "    ax.set_xlim(0,1024)\n",
    "    ax.grid()\n",
    "    axs[0][0].set_title('Real',fontsize=12)\n",
    "axs[0][1].set_title('Imaginario',fontsize=12)\n",
    "#axs[0][1].set_title('Imaginary',fontsize=12)\n",
    "axs[int(K/2)-1][0].set_xlabel('n',fontsize=12)\n",
    "axs[int(K/2)-1][1].set_xlabel('n',fontsize=12)\n",
    "#fig.align_xlabels()\n",
    "plt.tight_layout()\n",
    "plt.savefig('plots/rx_chann{}_out_1_{}.pdf'.format(K,int(K/2)))\n",
    "#plt.show()"
   ]
  },
  {
   "cell_type": "code",
   "execution_count": null,
   "metadata": {},
   "outputs": [],
   "source": [
    "#Grafico la salida de cada canal\n",
    "fig,axs = plt.subplots(int(K/2),2,sharex=True, sharey=True, gridspec_kw={'wspace': 0.1})\n",
    "fig.set_size_inches((10,8))\n",
    "#fig.suptitle('Channelizer{}'.format(K),fontsize=18)\n",
    "\n",
    "for n in range(int(K/2),K):\n",
    "    ax=axs[n-int(K/2)][0]\n",
    "    #ax.plot(rx_fir_op_ideal[n].real)\n",
    "    ax.plot(2*ideal_xc[n].real)\n",
    "    ax.plot(viv_xc[n].real,'r.',markevery=9)\n",
    "    ax.set_ylabel('ch{} (V)'.format(n+1),fontsize=10)\n",
    "    ax.set_xlim(0,1024)\n",
    "    ax.grid()\n",
    "\n",
    "    ax=axs[n-int(K/2)][1]\n",
    "    #ax.plot(rx_fir_op_ideal[n].imag)\n",
    "    ax.plot(2*ideal_xc[n].imag)\n",
    "    ax.plot(viv_xc[n].imag,'r.',markevery=9)\n",
    "    ax.set_xlim(0,1024)\n",
    "    ax.grid()\n",
    "\n",
    "axs[0][0].set_title('Real',fontsize=12)\n",
    "axs[0][1].set_title('Imaginario',fontsize=12)\n",
    "#axs[0][1].set_title('Imaginary',fontsize=12)\n",
    "axs[int(K/2)-1][0].set_xlabel('n',fontsize=12)\n",
    "axs[int(K/2)-1][1].set_xlabel('n',fontsize=12)\n",
    "#fig.align_xlabels()\n",
    "plt.tight_layout()\n",
    "plt.savefig('plots/rx_chann{}_out_{}_{}.pdf'.format(K,int(K/2+1),K))\n",
    "plt.show()"
   ]
  },
  {
   "cell_type": "markdown",
   "metadata": {},
   "source": [
    "Plot output spectrum. Estos son los datos ideales, solo para checkeo"
   ]
  },
  {
   "cell_type": "code",
   "execution_count": null,
   "metadata": {},
   "outputs": [],
   "source": [
    "fig,ax=plt.subplots(figsize=(10,5))\n",
    "plot_type = 'spectrum';\n",
    "#plot_type = 'time domain(abs)';\n",
    "#plot_type = 'time domain(real)';\n",
    "\n",
    "print('Plot output channel {}....'.format(plot_type));\n",
    "N=2**10\n",
    "#ww=kaiser(data_len,8);\n",
    "ww=kaiser(viv_xc[2].size,8);\n",
    "#max_val = max(abs(fft(rx_fir_op_ideal[1]*ww)));\n",
    "max_val = max(abs(fft(viv_xc[2]*ww,N)));\n",
    "#f=fftfreq(data_len,d=1/Fs)\n",
    "f=fftfreq(N,d=1/Fs)\n",
    "for n in range(K):\n",
    "    #chan_err = rx_fft_op_ideal(n,:) - rx_fft_op_core(n,:);\n",
    "    if (plot_type =='spectrum'):\n",
    "        #plt.plot(f,20*np.log10(abs(fft(rx_fir_op_ideal[n]*ww))/max_val),'b');\n",
    "        ax.plot(fftshift(f),20*np.log10(abs(fftshift(fft(viv_xc[n]*ww,N)))/max_val),f'C{n}',label=f'ch{n}');\n",
    "        #  plt.plot(20*np.log10(abs(fft(rx_fft_op_core[n]*ww))/max_val),'g');\n",
    "        #  plt.plot(20*np.log10(abs(fft(chan_err*ww))/max_val),'r');\n",
    "        ax.set_xlim(-Fs/2,Fs/2)\n",
    "        ax.legend(loc='right')\n",
    "        ax.grid()\n",
    "        \n",
    "    elif (plot_type =='time domain(real)'):\n",
    "        #plt.plot(rx_fir_op_ideal[n].real,'b');\n",
    "        #plt.plot(rx_fir_op_ideal[n].real,'b');\n",
    "        ax.plot(viv_xc[3][:4000].real,'b');\n",
    "        #  plt.plot(rx_fft_op_core[n].real,'g');\n",
    "        #  plt.plot(abs(chan_err),'r');\n",
    "    else:\n",
    "        ax.plot(abs(rx_fir_op_ideal[n]),'b');\n",
    "        #  plt.plot(abs(rx_fft_op_core[n]),'g');\n",
    "        #  plt.plot(abs(chan_err),'r');\n",
    "        ax.set_title('Receiver channel {:} {:}'.format(n,plot_type));\n",
    "        #plt.legend('Ideal','Cores','Error');\n",
    "plt.show()"
   ]
  },
  {
   "cell_type": "markdown",
   "metadata": {},
   "source": [
    "Armamos las señales modulantes"
   ]
  },
  {
   "cell_type": "code",
   "execution_count": null,
   "metadata": {},
   "outputs": [],
   "source": [
    "mod_sim  = viv_xc #np.reshape(x_sim,(K,int(len(x_sim)/K)),order='F') \n",
    "mod_ideal= np.reshape(x_ideal,(K,int(len(x_ideal)/K)),order='F')"
   ]
  },
  {
   "cell_type": "code",
   "execution_count": null,
   "metadata": {},
   "outputs": [],
   "source": [
    "N=2**13         #longitud de la DFT\n",
    "f = fftfreq(N,d=1/Fs);\n",
    "ww_sim = kaiser(len(viv_xc[0]), beta=8)\n",
    "ww_ideal = kaiser(len(ideal_xc[0]), beta=8)"
   ]
  },
  {
   "cell_type": "code",
   "execution_count": null,
   "metadata": {},
   "outputs": [],
   "source": [
    "X_sim=[]\n",
    "#PX_sim=[]\n",
    "X_ideal=[]\n",
    "#PX_ideal=[]\n",
    "#max_val = max(abs(fft(rx_fft_op_ideal[2]*ww)))\n",
    "for i in range(len(mod_sim)):\n",
    "    #x_sim=fft(mod_sim[i][113:]*ww_sim,N);\n",
    "    x_sim=fft(mod_sim[i]*ww_sim,N);\n",
    "    #x_sim=x_sim[:int(N/2)];\n",
    "#    p_sim=abs(x_sim)**2;\n",
    "#    p_sim=10*np.log10(p_sim);\n",
    "    X_sim.append(abs(x_sim))\n",
    "#    PX_sim.append(p_sim)\n",
    "for i in range(len(mod_ideal)):\n",
    "    #x_ideal=fft(mod_ideal[i][113:]*ww_ideal,N);#tomo a partir de la muestra 113 porque son ceros antes de eso\n",
    "    mx_ideal=fft(mod_ideal[i]*ww_ideal,N);#tomo a partir de la muestra 113 porque son ceros antes de eso\n",
    "    #mx_ideal=mx_ideal[:int(N/2)];\n",
    "#    p_ideal=abs(mx_ideal)**2;\n",
    "#    p_ideal=10*np.log10(p_ideal);\n",
    "    X_ideal.append(abs(mx_ideal)/max(abs(fft(mx_ideal[2]*ww_ideal,N))))\n",
    "#    PX_ideal.append(p_ideal)\n",
    "\n",
    "fig,ax = plt.subplots(2,1,figsize=(10,5),sharex=True)\n",
    "#fig.set_size_inches((10,5))\n",
    "#ahora grafico el espectro\n",
    "for i in range(len(X_sim)):\n",
    "    ax[0].plot(fftshift(f),20*np.log10(fftshift(X_sim[i])/max(abs(fft(x_sim[3]*ww_sim,N)))),label='CH{}'.format(i+1),lw=1)\n",
    "for i in range(len(X_ideal)):\n",
    "    ax[1].plot(fftshift(f),20*np.log10(fftshift(X_ideal[i])),label='CH{}'.format(i+1),lw=1)\n",
    "\n",
    "#ax.autoscale()\n",
    "ax[0].set_ylabel(r'Amplitud (dB)',fontsize=12)\n",
    "ax[1].set_ylabel(r'Amplitud (dB)',fontsize=12)\n",
    "ax[1].set_xlabel(\"Frecuencia (Hz)\",fontsize=12)\n",
    "#ax.set_ylim(-100,2)\n",
    "#ax[0].set_xlim(left=0,right = Fs/2)\n",
    "ax[1].set_xlim(left=0,right = Fs/2)\n",
    "ax[0].set_ylim(top=40,bottom=-100)\n",
    "ax[1].set_ylim(top=40,bottom=-100)\n",
    "ax[0].grid()\n",
    "ax[1].grid()\n",
    "#ax.annotate('attenuated in\\nstopband',fontsize=16,xy=(200,32),\n",
    "#        xytext=(50,3),textcoords='offset points',\n",
    "#        arrowprops=dict(arrowstyle='->',lw=3),)\n",
    "ax[0].legend(loc='upper right',fontsize=5);\n",
    "ax[1].legend(loc='upper right',fontsize=5);\n",
    "\n",
    "# this is an inset axes over the main axes\n",
    "a = plt.axes([.5, .58, .3, .3], alpha=0.2)\n",
    "for i in range(0,len(X_sim)):\n",
    "    #a.plot(f[:int(N/2)],X[i])\n",
    "        a.plot(fftshift(f),20*np.log10(fftshift(X_sim[i])),label='CH{}'.format(i+1),lw=1)\n",
    "        #a.plot(f[:int(N/2)],20*np.log10(X_ideal[i]),label='CH{}'.format(i+1),lw=1)\n",
    "#for i in range(0,len(PX)):\n",
    "#    a.plot(f[:int(N/2)],PX[i])\n",
    "\n",
    "a.ticklabel_format(style='sci', axis='x', scilimits=(0,0))\n",
    "#a.set_xlabel('Charge [ADC.bin]',fontsize=14, fontname='monospace')\n",
    "#a.set_ylabel('Counts',fontsize=14, fontname='monospace')\n",
    "a.set_xlim(0,Fs/K)\n",
    "a.set_ylim(-110,40)\n",
    "#a.autoscale()\n",
    "a.grid()\n",
    "\n",
    "plt.savefig('plots/fir_fdm_out_chann{}.pdf'.format(K))\n",
    "plt.show()"
   ]
  },
  {
   "cell_type": "code",
   "execution_count": null,
   "metadata": {},
   "outputs": [],
   "source": [
    "fig,ax = plt.subplots(figsize=(10,6))\n",
    "#fig.set_size_inches((10,6))\n",
    "#fig.suptitle('Input Spectrum',fontsize=18)\n",
    "\n",
    "#NFFT=viv_x_fir_op.size\n",
    "NFFT=1024\n",
    "ww_viv = kaiser(viv_x_fir_op.size, beta=8)\n",
    "ww_ideal = kaiser(x_ideal.size, beta=8)\n",
    "X_viv=fft(viv_x_fir_op*ww_viv,NFFT)\n",
    "X_ideal=fft(x_ideal*ww_ideal,NFFT)\n",
    "freq=fftfreq(NFFT,d=1/Fs)\n",
    "#for n in range(K):\n",
    "ax.plot(fftshift(freq),20*np.log10(fftshift(abs(X_ideal/max(abs(X_ideal))))),'r',label='Python')\n",
    "ax.plot(fftshift(freq),20*np.log10(fftshift(abs(X_viv/max(abs(X_viv))))),label='Vivado')\n",
    "#ax.plot(fftshift(freq),20*np.log10(fftshift(abs(X_viv))),label='Vivado')\n",
    "#ax.plot(fftshift(freq),20*np.log10(fftshift(abs(X_ideal))),label='Python')\n",
    "\n",
    "for i in range(int(K/2)):\n",
    "    ax.vlines((Fs/K)*i,-120,0,linestyle='dotted',color='red')\n",
    "for i in reversed(range(int(K/2))):\n",
    "    ax.vlines(-(Fs/K)*i,-120,0,linestyle='dotted',color='red')\n",
    "\n",
    "ax.set_xlim(-Fs/2,Fs/2)\n",
    "ax.set_ylim(-55,2)\n",
    "ax.grid(ls='dotted')\n",
    "ax.legend(loc=0,fontsize=12)\n",
    "ax.ticklabel_format(style='sci', axis='x', scilimits=(0,0))\n",
    "ax.set_ylabel(r'Amplitud (dB)',fontsize=14)\n",
    "ax.set_xlabel('Frecuencia (Hz)',fontsize=14)\n",
    "plt.tight_layout()\n",
    "#plt.savefig('plots/fir_out_viv_py.pdf')\n",
    "plt.show()"
   ]
  },
  {
   "cell_type": "code",
   "execution_count": null,
   "metadata": {},
   "outputs": [],
   "source": [
    "#armamos la señal total\n",
    "#x_tot = x_sim1+x_sim2+x_sim3+x_sim4+x_sim5+x_sim6+x_sim7+x_sim8+x_sim9+x_sim10+x_sim11+x_sim12+x_sim13+x_sim14+x_sim15+x_sim16;\n",
    "x_tot_sim = mod_sim.sum(axis=0)\n",
    "x_tot_ideal = mod_ideal.sum(axis=0)\n",
    "\n",
    "#graficamos una de las componentes\n",
    "N=2**13         #longitud de la DFT\n",
    "f = fftfreq(N,d=1/Fs);\n",
    "\n",
    "#ww=kaiser(length(x_sim1),16);\n",
    "ww_sim = kaiser(len(mod_sim[0][113:]), beta=8)\n",
    "ww_ideal = kaiser(len(mod_ideal[0][113:]), beta=8)\n",
    "\n",
    "X_sim=[]\n",
    "PX_sim=[]\n",
    "X_ideal=[]\n",
    "PX_ideal=[]\n",
    "for i in range(len(mod_sim)):\n",
    "    x_sim=fft(mod_sim[i][113:]*ww_sim,N)/max(abs(fft(mod_sim[2][113:]*ww_sim,N)));#tomo a partir de la muestra 113 porque son ceros antes de eso\n",
    "    #x_sim=x_sim[:int(N/2)];\n",
    "    p_sim=abs(x_sim)**2;\n",
    "    p_sim=10*np.log10(p_sim);\n",
    "    X_sim.append(abs(x_sim))\n",
    "    PX_sim.append(p_sim)\n",
    "for i in range(len(mod_ideal)):\n",
    "    x_ideal=fft(mod_ideal[i][113:]*ww_ideal,N)/max(abs(fft(mod_ideal[2][113:]*ww_ideal,N)));#tomo a partir de la muestra 113 porque son ceros antes de eso\n",
    "    #x_ideal=x_ideal[:int(N/2)];\n",
    "    p_ideal=abs(x_ideal)**2;\n",
    "    p_ideal=10*np.log10(p_ideal);\n",
    "    X_ideal.append(abs(x_ideal))\n",
    "    PX_ideal.append(p_ideal)\n",
    "\n",
    "fig,ax = plt.subplots(2,1,sharex=True,figsize=(10,6))\n",
    "#fig.set_size_inches((10,5))\n",
    "#ahora grafico el espectro\n",
    "for i in range(len(X_sim)):\n",
    "        #ax[0].plot(f[:int(N/2)],20*np.log10(X_sim[i]),label='CH{}'.format(i+1),lw=1)\n",
    "        ax[0].plot(fftshift(f),20*np.log10(fftshift(X_sim[i])),label='CH{}'.format(i+1),lw=1)\n",
    "for i in range(len(X_ideal)):\n",
    "        #ax[1].plot(f[:int(N/2)],20*np.log10(X_ideal[i]),label='CH{}'.format(i+1),lw=1)\n",
    "        ax[1].plot(fftshift(f),20*np.log10(fftshift(X_ideal[i])),label='CH{}'.format(i+1),lw=1)\n",
    "\n",
    "#fig,ax=plt.subplots()\n",
    "##ahora grafico la densidad espectral de potencia\n",
    "#for i in range(len(PX)):\n",
    "#    plt.plot(f[:int(N/2)],PX[i],label='CH{}'.format(i+1))\n",
    "\n",
    "#ax.autoscale()\n",
    "ax[0].set_ylabel(r'Amplitud (dB)',fontsize=12)\n",
    "ax[1].set_ylabel(r'Amplitud (dB)',fontsize=12)\n",
    "ax[1].set_xlabel(\"Frequencia (Hz)\",fontsize=12)\n",
    "#ax.set_ylim(-100,2)\n",
    "ax[0].set_xlim(left=0,right = Fs/2)\n",
    "ax[1].set_xlim(left=0,right = Fs/2)\n",
    "ax[0].set_ylim(top=2,bottom=-85)\n",
    "ax[1].set_ylim(top=2,bottom=-75)\n",
    "ax[0].grid()\n",
    "ax[1].grid()\n",
    "#ax.annotate('attenuated in\\nstopband',fontsize=16,xy=(200,32),\n",
    "#        xytext=(50,3),textcoords='offset points',\n",
    "#        arrowprops=dict(arrowstyle='->',lw=3),)\n",
    "ax[0].legend(loc='upper right',fontsize=7);\n",
    "ax[1].legend(loc='upper right',fontsize=7);\n",
    "# this is an inset axes over the main axes\n",
    "a = plt.axes([.5, .64, .3, .3], alpha=0.02)\n",
    "for i in range(0,len(X_sim)):\n",
    "    #a.plot(f[:int(N/2)],X[i])\n",
    "        a.plot(fftshift(f),20*np.log10(fftshift(X_sim[i])),label='CH{}'.format(i+1),lw=1)\n",
    "        #a.plot(f[:int(N/2)],20*np.log10(X_ideal[i]),label='CH{}'.format(i+1),lw=1)\n",
    "#for i in range(0,len(PX)):\n",
    "#    a.plot(f[:int(N/2)],PX[i])\n",
    "\n",
    "a.ticklabel_format(style='sci', axis='x', scilimits=(0,0))\n",
    "#a.set_xlabel('Charge [ADC.bin]',fontsize=14, fontname='monospace')\n",
    "#a.set_ylabel('Counts',fontsize=14, fontname='monospace')\n",
    "a.set_xlim(0,Fs/K)\n",
    "a.set_ylim(-70,2)\n",
    "#a.autoscale()\n",
    "a.grid()\n",
    "plt.tight_layout()\n",
    "\n",
    "plt.savefig('plots/fir_fdm_out_chann{}.pdf'.format(K))\n",
    "plt.show()\n"
   ]
  },
  {
   "cell_type": "code",
   "execution_count": null,
   "metadata": {},
   "outputs": [],
   "source": []
  }
 ],
 "metadata": {
  "kernelspec": {
   "display_name": "Python 3",
   "language": "python",
   "name": "python3"
  },
  "language_info": {
   "codemirror_mode": {
    "name": "ipython",
    "version": 3
   },
   "file_extension": ".py",
   "mimetype": "text/x-python",
   "name": "python",
   "nbconvert_exporter": "python",
   "pygments_lexer": "ipython3",
   "version": "3.8.2"
  },
  "name": "01_introd_python.ipynb"
 },
 "nbformat": 4,
 "nbformat_minor": 1
}
